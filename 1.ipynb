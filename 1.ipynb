{
  "cells": [
    {
      "cell_type": "markdown",
      "metadata": {
        "id": "t48ZzDLtux0T"
      },
      "source": [
        "# Problema 1"
      ]
    },
    {
      "cell_type": "markdown",
      "metadata": {
        "id": "cWCfLm-fvNTx"
      },
      "source": [
        "Escribe un código que pida al usuario ingresar un número real y determine si el número ingresado es positivo, negativo o cero."
      ]
    },
    {
      "cell_type": "code",
      "execution_count": 7,
      "metadata": {},
      "outputs": [
        {
          "name": "stdout",
          "output_type": "stream",
          "text": [
            "El numero es positivo\n"
          ]
        }
      ],
      "source": [
        "numero=float(input(\"Ingrese un numero real: \"))\n",
        "\n",
        "if numero > 0:\n",
        "    print(\"El numero es positivo\")\n",
        "elif numero <0:\n",
        "    print(\"El nuermo es negativo\")\n",
        "else:\n",
        "    print(\"Caracter invalido o 0\")\n"
      ]
    },
    {
      "cell_type": "markdown",
      "metadata": {
        "id": "6civkm_Pwf1B"
      },
      "source": [
        "# Problema 2"
      ]
    },
    {
      "cell_type": "markdown",
      "metadata": {
        "id": "rjeAxtJ4x9h6"
      },
      "source": [
        "Escribe un código que pida al usuario ingresar un número entero y que determine si el número ingresado es par o impar.\n"
      ]
    },
    {
      "cell_type": "code",
      "execution_count": 6,
      "metadata": {},
      "outputs": [
        {
          "name": "stdout",
          "output_type": "stream",
          "text": [
            "el numero es par.\n"
          ]
        }
      ],
      "source": [
        "numero=int(input(\"Ingres   numero entero: \" ))\n",
        "if numero%2==0:\n",
        "    print(\"el numero es par.\")\n",
        "else:\n",
        "    print(\"El numero es impar\")"
      ]
    },
    {
      "cell_type": "markdown",
      "metadata": {
        "id": "rLA34mTgxuSf"
      },
      "source": [
        "# Problema 3"
      ]
    },
    {
      "cell_type": "markdown",
      "metadata": {
        "id": "6E3zFuZSwigv"
      },
      "source": [
        "Escribe un código que, mediante un ciclo *while*, sume los primeros $100$ números naturales."
      ]
    },
    {
      "cell_type": "code",
      "execution_count": 5,
      "metadata": {},
      "outputs": [
        {
          "name": "stdout",
          "output_type": "stream",
          "text": [
            "la suma de los primros 100 numeros es : 5050\n"
          ]
        }
      ],
      "source": [
        "contador=1\n",
        "suma=0\n",
        "\n",
        "while contador <=100:\n",
        "    suma += contador\n",
        "    contador+=1\n",
        "print(f\"la suma de los primros 100 numeros es : {suma}\")"
      ]
    },
    {
      "cell_type": "markdown",
      "metadata": {
        "id": "pZpuARSKz4zw"
      },
      "source": [
        "# Problema 4"
      ]
    },
    {
      "cell_type": "markdown",
      "metadata": {
        "id": "SxGOLjlnz6y_"
      },
      "source": [
        "Escribe un código que almacene en una variable el *string* \"Contraseña\". Luego, el programa debe solicitar al usuario \"Introducir contraseña\", hasta que la palabra ingresada sea correcta. <sup><a href=\"#footnote1\" id=\"ref1\">1</a></sup>\n",
        "\n",
        "\n",
        "<p id=\"footnote1\"><sup>1</sup> String: Tipo de dato que almacena texto."
      ]
    },
    {
      "cell_type": "code",
      "execution_count": 3,
      "metadata": {},
      "outputs": [
        {
          "name": "stdout",
          "output_type": "stream",
          "text": [
            "COnstraseña correcta. \n"
          ]
        }
      ],
      "source": [
        "contraseña_correcta=\"contraseña\"\n",
        "while True:\n",
        "    contraseña_ingresada=input(\"Ingrese una constraseña: \")\n",
        "\n",
        "    if contraseña_ingresada==contraseña_correcta:\n",
        "        print(\"COnstraseña correcta. \")\n",
        "        break\n",
        "    else:\n",
        "        print(\"COnstrañema incorrecta.\")        "
      ]
    },
    {
      "cell_type": "markdown",
      "metadata": {
        "id": "bXAO6t1V1psK"
      },
      "source": [
        "# Problema 5"
      ]
    },
    {
      "cell_type": "markdown",
      "metadata": {
        "id": "nXwlwVHI11wC"
      },
      "source": [
        "Escribe un código que, utilizando un ciclo *for*, pida al usuario ingresar un número entero y muestre la tabla de multiplicar desde el 1 al 12 de dicho número."
      ]
    },
    {
      "cell_type": "code",
      "execution_count": 2,
      "metadata": {},
      "outputs": [
        {
          "name": "stdout",
          "output_type": "stream",
          "text": [
            "tabla del numero 6\n",
            "6*1=6\n",
            "6*2=12\n",
            "6*3=18\n",
            "6*4=24\n",
            "6*5=30\n",
            "6*6=36\n",
            "6*7=42\n",
            "6*8=48\n",
            "6*9=54\n",
            "6*10=60\n",
            "6*11=66\n",
            "6*12=72\n"
          ]
        }
      ],
      "source": [
        "numero=int(input(\"INgrese numero entero:\"))\n",
        "print(f\"tabla del numero {numero}\")\n",
        "for i in range(1,13):\n",
        "    resultado=numero*i\n",
        "    print(f\"{numero}*{i}={resultado}\")\n"
      ]
    },
    {
      "cell_type": "markdown",
      "metadata": {
        "id": "UroIuMyFCKax"
      },
      "source": [
        "# Problema 6"
      ]
    },
    {
      "cell_type": "markdown",
      "metadata": {
        "id": "VoiJyh0zCMzX"
      },
      "source": [
        "1. Escribe una función que reciba dos números y retorne el producto de los números recibidos.\n",
        "1. Escribe una nueva función que tome el producto calculado en el ítem anterior y redondee el valor al entero.\n",
        "1. Pide al usuario que ingrese dos números, y utiliza ambas funciones para imprimir el valor de la multiplicación redondeado al entero."
      ]
    },
    {
      "cell_type": "code",
      "execution_count": 8,
      "metadata": {},
      "outputs": [
        {
          "name": "stdout",
          "output_type": "stream",
          "text": [
            "6\n"
          ]
        }
      ],
      "source": [
        "def calcular_producto(num1,num2):\n",
        "    return num1 * num2\n",
        "\n",
        "def redondear_producto(numero):\n",
        "    return round(numero)\n",
        "\n",
        "num1=float(input(\"Ingrese numero 1: \"))\n",
        "num2=float(input(\"Ingrese numero 2: \"))\n",
        "\n",
        "producto=calcular_producto(num1,num2)\n",
        "producto_redondeado=redondear_producto(producto)\n",
        "\n",
        "print(producto_redondeado)\n"
      ]
    },
    {
      "cell_type": "markdown",
      "metadata": {
        "id": "GHMOEBgQDvUw"
      },
      "source": [
        "# Problema 7"
      ]
    },
    {
      "cell_type": "markdown",
      "metadata": {
        "id": "I77oq5plD50H"
      },
      "source": [
        "La fórmula que permite convertir los grados Celsius a Fahrenheit es la siguiente:\n",
        "\n",
        "$$ F = \\frac{9}{5} C + 32$$\n",
        "\n",
        "1. Crea una función que permita realizar esta conversión.\n",
        "1. Luego, pide al usuario que ingrese la temperatura en grados Celsius y utiliza la función para calcular su equivalente en grados Fahrenheit.\n",
        "1. Imprime el resultado redondeado a la centésima."
      ]
    },
    {
      "cell_type": "code",
      "execution_count": 9,
      "metadata": {},
      "outputs": [
        {
          "name": "stdout",
          "output_type": "stream",
          "text": [
            "la temperatura es:75.2°F\n"
          ]
        }
      ],
      "source": [
        "def c_a_f(celsius):\n",
        "    return(9/5)*celsius+32\n",
        "celsius=float(input(\"Ingrese la temperatura en Celsius°\"))\n",
        "\n",
        "farehai=c_a_f(celsius)\n",
        "print(f\"la temperatura es:{round(farehai,2)}°F\")"
      ]
    },
    {
      "cell_type": "markdown",
      "metadata": {
        "id": "yC4Sju1KGQFn"
      },
      "source": [
        "# Problema 8"
      ]
    },
    {
      "cell_type": "markdown",
      "metadata": {
        "id": "Qw6j4zbSG0NH"
      },
      "source": [
        "1. Escribe un código que importe el módulo *random* y utiliza la función *randint()* para generar diez números aleatorios entre $1$ y $100$, y almacénalos en una lista.\n",
        "1. Imprime en pantalla la lista con los diez números generados.\n",
        "1. Utiliza la indexación en *Python* para acceder al segundo y sexto elemento de la lista. Ten en cuenta que en *Python* los índices comienzan en $0$. ¿Cómo imprimirías estos elementos?"
      ]
    },
    {
      "cell_type": "code",
      "execution_count": 11,
      "metadata": {},
      "outputs": [
        {
          "name": "stdout",
          "output_type": "stream",
          "text": [
            "lista de numeros aleatorios: [97, 76, 38, 40, 28, 92, 35, 100, 64, 8]\n",
            "el segundo elemento (Indice) es :76\n",
            "El sexto elemento (indice 5) es : 92\n"
          ]
        }
      ],
      "source": [
        "import random\n",
        "lista_numero=[]\n",
        "for _ in range(10):\n",
        "    lista_numero.append(random.randint(1,100))\n",
        "\n",
        "print(\"lista de numeros aleatorios:\",lista_numero)\n",
        "\n",
        "segundo_elemento=lista_numero[1]\n",
        "sexto_elemento=lista_numero[5]\n",
        "\n",
        "print(f\"el segundo elemento (Indice) es :{segundo_elemento}\")\n",
        "print(f\"El sexto elemento (indice 5) es : {sexto_elemento}\")\n"
      ]
    },
    {
      "cell_type": "markdown",
      "metadata": {
        "id": "qlwdqEfzHrL_"
      },
      "source": [
        "# Problema 9"
      ]
    },
    {
      "cell_type": "markdown",
      "metadata": {
        "id": "iqH0iITmJH-P"
      },
      "source": [
        "El Índice de Masa Corporal (IMC) es una medida que se utiliza para evaluar si una persona se encuentra en un peso saludable con respecto a su estatura. La fórmula para calcular esta medida es:\n",
        "\n",
        "<br>\n",
        "\n",
        "$$ \\textrm{IMC} = \\frac{\\textrm{peso} \\ \\ (\\textrm{kg})}{(\\textrm{altura} \\ \\ (\\textrm{m}))^{2}}$$\n",
        "\n",
        "<br>\n",
        "\n",
        "El valor obtenido con el IMC, de acuerdo con la Organización Mundial de la Salud (OMS) indica si la persona tiene un peso bajo, normal, sobrepeso u obesidad. La clasificación es la siguiente:\n",
        "\n",
        "<br>\n",
        "\n",
        "* Bajo peso: IMC menor a $18,5 \\ \\  \\textrm{kg/m}^{2}$\n",
        "* Peso normal: IMC entre $18,5 \\ \\ \\textrm{kg/m}^{2}$ y $24,9 \\ \\ \\textrm{kg/m}^{2}$\n",
        "* Sobrepeso: IMC entre $25 \\ \\ \\textrm{kg/m}^{2}$ y $29,9 \\ \\ \\textrm{kg/m}^{2}$\n",
        "* Obesidad: IMC de $30 \\ \\ \\textrm{kg/m}^{2}$ o mayor\n",
        "\n",
        "<br>\n",
        "\n",
        "Aunque el IMC es una forma eficaz de evaluar el peso, no tiene en cuenta factores como la distribución de grasa, la masa muscular y otros rasgos de la salud física.\n",
        "\n",
        "<br>\n",
        "\n",
        "1. Considerando la información entregada, implementa un código que permita calcular mediante una función, el valor del IMC de una persona. Luego, solicita al usuario valores de masa y altura e indica, mediante el uso de condicionales, la categoría de la persona según el IMC calculado.\n",
        "1. Considera la siguiente tabla de valores, que muestra el peso y el IMC de once estudiantes. Guarda los valores del IMC en una lista e imprime en pantalla los estudiantes que, según el criterio de la OMS, están en **bajo peso**. Además, para cada IMC que esté en bajo peso, índica también el índice en la lista donde se encuentra.\n",
        "\n",
        "<p><center>\n",
        "\n",
        "| N°      | Peso $(\\textrm{kg})$ | IMC $(\\textrm{kg/m}^{2})$|\n",
        "|---------|----------------------|--------------------------|\n",
        "|$$ 1 $$  | $$29,5 $$            | $$16,43$$                |\n",
        "|$$ 2 $$  | $$37,3 $$            | $$19,31$$                |\n",
        "|$$ 3 $$  | $$38   $$            | $$10,25$$                |\n",
        "|$$ 4 $$  | $$31   $$            | $$18,63$$                |\n",
        "|$$ 5 $$  | $$36   $$            | $$17,85$$                |\n",
        "|$$ 6 $$  | $$40,4 $$            | $$19,76$$                |\n",
        "|$$ 7 $$  | $$47   $$            | $$23,64$$                |\n",
        "|$$ 8 $$  | $$43   $$            | $$21,94$$                |\n",
        "|$$ 9 $$  | $$36   $$            | $$21,3 $$                |\n",
        "|$$ 10$$  | $$40,1 $$            | $$22,67$$                |\n",
        "|$$ 11$$  | $$27   $$            | $$16,48$$                |\n",
        "\n",
        "</center></p>\n",
        "\n"
      ]
    },
    {
      "cell_type": "code",
      "execution_count": 13,
      "metadata": {},
      "outputs": [
        {
          "name": "stdout",
          "output_type": "stream",
          "text": [
            "Resultado para el usuario\n",
            "el imc calculado es:22.16kg/m2\n",
            "la clasificacion de la oms: peso normal\n"
          ]
        },
        {
          "data": {
            "text/plain": [
              "22.1606648199446"
            ]
          },
          "execution_count": 13,
          "metadata": {},
          "output_type": "execute_result"
        }
      ],
      "source": [
        "def calcular_imc_clasificar(peso,altura):\n",
        "\n",
        "    imc=peso/(altura**2)\n",
        "    print(f\"el imc calculado es:{imc:.2f}kg/m2\")\n",
        "\n",
        "    if imc<18.5:\n",
        "        print(\"clasificacion de la oms: bajo peso\")\n",
        "    elif 18.5<=imc<=24.9:\n",
        "        print(\"la clasificacion de la oms: peso normal\")\n",
        "    elif 25<=imc<=29.9:\n",
        "        print(\"clasificacion de la oms: sobrepeso\")\n",
        "    else:\n",
        "        print(\"clasificaicon de la oms: obesidad\")\n",
        "    return imc\n",
        "\n",
        "peso_usuario=float(input(\"ingresa tu peso en kg:\"))\n",
        "altura_usuario=float(input(\"Ingrese altura:\"))\n",
        "\n",
        "print(\"Resultado para el usuario\")\n",
        "calcular_imc_clasificar(peso_usuario,altura_usuario)"
      ]
    }
  ],
  "metadata": {
    "colab": {
      "provenance": [],
      "toc_visible": true
    },
    "kernelspec": {
      "display_name": "base",
      "language": "python",
      "name": "python3"
    },
    "language_info": {
      "codemirror_mode": {
        "name": "ipython",
        "version": 3
      },
      "file_extension": ".py",
      "mimetype": "text/x-python",
      "name": "python",
      "nbconvert_exporter": "python",
      "pygments_lexer": "ipython3",
      "version": "3.11.5"
    }
  },
  "nbformat": 4,
  "nbformat_minor": 0
}
