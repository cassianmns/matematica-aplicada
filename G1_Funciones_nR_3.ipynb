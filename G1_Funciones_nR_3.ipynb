{
  "cells": [
    {
      "cell_type": "markdown",
      "metadata": {
        "id": "xXjhMBMryPEY"
      },
      "source": [
        "# Problema 1"
      ]
    },
    {
      "cell_type": "markdown",
      "metadata": {
        "id": "hd5aYLdWxUrZ"
      },
      "source": [
        "Una red transmite datos a $100$ megabits por segundo. Crea una función utilizando *Python* que permita calcular la cantidad de datos transmitidos en una cierta cantidad de tiempo (en segundos). Luego utiliza la función y calcula cuántos datos se transmiten en:\n",
        "\n",
        "* $45$ segundos\n",
        "* $1,5$ minutos\n",
        "* $1$ hora\n",
        "\n"
      ]
    },
    {
      "cell_type": "code",
      "execution_count": 7,
      "metadata": {},
      "outputs": [
        {
          "name": "stdout",
          "output_type": "stream",
          "text": [
            "4500\n",
            "9000.0\n",
            "360000\n"
          ]
        }
      ],
      "source": [
        "#variable independiente:tiempo (segundos)\n",
        "#variable dependiente:Datos transmitidos (megabits)\n",
        "#dominio contextualizado: desde 0 hasta infinito ; [0 , infinito[\n",
        "\n",
        "def datos_transmitidos(velocidad):\n",
        "    megabits_segundo=100\n",
        "    datos=velocidad*megabits_segundo\n",
        "    return datos\n",
        "\n",
        "print(f\"{datos_transmitidos(45)}\")\n",
        "print(f\"{datos_transmitidos(1.5*60)}\")\n",
        "print(f\"{datos_transmitidos(1*60*60)}\")"
      ]
    },
    {
      "cell_type": "markdown",
      "metadata": {
        "id": "D8XA9m7wAPMm"
      },
      "source": [
        "# Problema 2"
      ]
    },
    {
      "cell_type": "markdown",
      "metadata": {
        "id": "GAqylLb8Cu5U"
      },
      "source": [
        "Utilizando la función definida en el problema $1$, genera un listado que muestre los datos transmitidos para tiempos desde $0$ hasta $1.000$ segundos con incrementos de $100$ segundos."
      ]
    },
    {
      "cell_type": "code",
      "execution_count": 8,
      "metadata": {},
      "outputs": [
        {
          "name": "stdout",
          "output_type": "stream",
          "text": [
            "[0, 10000, 20000, 30000, 40000, 50000, 60000, 70000, 80000, 90000, 100000]\n"
          ]
        }
      ],
      "source": [
        "#variable independiente:tiempo (segundos)\n",
        "#variable dependiente:Datos transmitidos (megabits)\n",
        "#dominio contextualizado: desde 0 hasta 1000 ; [0 , 1000]\n",
        "\n",
        "def datos_transmitidos(velocidad):\n",
        "    megabits_segundo=100\n",
        "    datos=velocidad*megabits_segundo\n",
        "    return datos\n",
        "\n",
        "lista=[]\n",
        "for i in range(0,1001,100):\n",
        "    lista.append(datos_transmitidos(i))\n",
        "\n",
        "print(lista)"
      ]
    },
    {
      "cell_type": "markdown",
      "metadata": {
        "id": "Y28VfYtL2lU-"
      },
      "source": [
        "# Problema 3"
      ]
    },
    {
      "cell_type": "markdown",
      "metadata": {
        "id": "Z1-uAGdQ2xq2"
      },
      "source": [
        "La **latencia** de una red corresponde al tiempo que tarda un paquete de datos en viajar desde el punto de origen al destino. En otras palabras, es el tiempo que transcurre desde que se envía una solicitud de un dispositivo hasta que se recibe una respuesta del servidor u otro dispositivo.\n",
        "\n",
        "La latencia puede verse afectada por la velocidad de transmisión de los datos a través de los cables o conexiones inalámbricas, la distancia física entre los dispositivos, el tiempo que tarda un computador en procesar o reenviar los datos, etc.\n",
        "\n",
        "En redes de comunicación, como las videoconferencias, juegos en línea y transmisión de datos en tiempo real, es deseable una baja latencia, de lo contrario pueden existir retrasos en la comunicación y afectar negativamente la experiencia del usuario."
      ]
    },
    {
      "cell_type": "markdown",
      "metadata": {
        "id": "XFLW0fW26j83"
      },
      "source": [
        "Según el contexto mencionado, crea una función en *Python* que permita calcular la **latencia real** de una red dada una latencia estimada. Suponga que la latencia real es un $20\\%$ mayor a la latencia estimada.\n",
        "\n",
        "Calcule la latencia real para una latencia estimada de:\n",
        "\n",
        "a)   $200$ milisegundos.\n",
        "\n",
        "b)   $149$ milisegundos.\n",
        "\n",
        "c)   $74$ milisegundos.\n",
        "\n"
      ]
    },
    {
      "cell_type": "code",
      "execution_count": 11,
      "metadata": {},
      "outputs": [
        {
          "name": "stdout",
          "output_type": "stream",
          "text": [
            "la latencia real para 200 ms es 240.0\n",
            "La latencia real para 149 ms es 178.79999999999998\n",
            "la latencia real para 74 ms es 88.8\n"
          ]
        }
      ],
      "source": [
        "def calcular_latencia(latencia_estimada):\n",
        "    return latencia_estimada*1.20\n",
        "\n",
        "latencia_a=200\n",
        "latencia_real_a=calcular_latencia(latencia_a)\n",
        "print(f\"la latencia real para 200 ms es {latencia_real_a}\")\n",
        "\n",
        "latencia_b=149\n",
        "latencia_real_b=calcular_latencia(latencia_b)\n",
        "print(f\"La latencia real para 149 ms es {latencia_real_b}\")\n",
        "\n",
        "latencia_c=74\n",
        "latencia_real_c=calcular_latencia(latencia_c)\n",
        "print(f\"la latencia real para 74 ms es {latencia_real_c}\")"
      ]
    },
    {
      "cell_type": "code",
      "execution_count": 12,
      "metadata": {},
      "outputs": [
        {
          "name": "stdout",
          "output_type": "stream",
          "text": [
            "240.0\n",
            "178.8\n",
            "88.8\n"
          ]
        }
      ],
      "source": [
        "def d(t):\n",
        "    datos=round(t*1.2,1)\n",
        "    return datos\n",
        "print(d(200))\n",
        "print(d(149))\n",
        "print(d(74))"
      ]
    },
    {
      "cell_type": "markdown",
      "metadata": {
        "id": "LGX3xr94E-Ix"
      },
      "source": [
        "# Problema 4"
      ]
    },
    {
      "cell_type": "markdown",
      "metadata": {
        "id": "wPT1xIfVGDCQ"
      },
      "source": [
        "Como parte de un proyecto de mejora, en el año $2021$ se instaló un cable de fibra óptica que une España con EEUU. El cable tiene un largo de $6.600$ $km$ y fue colocado por un barco a una velocidad de $1,85$ $km/h$.\n",
        "\n",
        "6.   Si se han instalado $3.480$ kilometros de cable, ¿cuántas horas llevan de trabajo?\n",
        "7.   ¿Cuánto tiempo transcurrió para que se completara la obra?\n",
        "\n",
        "\n"
      ]
    },
    {
      "cell_type": "markdown",
      "metadata": {},
      "source": []
    },
    {
      "cell_type": "markdown",
      "metadata": {},
      "source": [
        "1.   Determine la forma algebraica de la función que permite determinar el largo del cable instalado (en km) a partir del tiempo transcurrido (en horas). Utilice la instrucción *def* para definir la función en *Python*.\n",
        "        \n",
        "        forma algebraica : f(x)=1,85*x\"x:es el tiempo"
      ]
    },
    {
      "cell_type": "code",
      "execution_count": null,
      "metadata": {},
      "outputs": [],
      "source": [
        "def f(x):\n",
        "    f=1.85*x\n",
        "    return f"
      ]
    },
    {
      "cell_type": "markdown",
      "metadata": {},
      "source": [
        "2.   Defina variable dependiente e independiente, indicando unidad de medida.\n",
        "\n",
        "#Variable dependiente: largo de cable instalado (km)\n",
        "#Variable independiente: tiempo (horas)"
      ]
    },
    {
      "cell_type": "markdown",
      "metadata": {},
      "source": [
        "3.   Determine el dominio contextualizado de la función.\n",
        "\n",
        "\"El dominio contextualizado esta asociado a la variable independiente y el contexto\"\n",
        "\n",
        "Dominio contextualizado: desde 0 hasta los 3568 horas, aproximadamente (6600/1.85)\n",
        "Dom f: [0, 3568]"
      ]
    },
    {
      "cell_type": "code",
      "execution_count": null,
      "metadata": {},
      "outputs": [],
      "source": [
        "6600/1.85"
      ]
    },
    {
      "cell_type": "markdown",
      "metadata": {},
      "source": [
        "4.   Grafique la función utilizando la biblioteca *Matplotlib* considerando el dominio contextualizado."
      ]
    },
    {
      "cell_type": "code",
      "execution_count": null,
      "metadata": {},
      "outputs": [
        {
          "data": {
            "image/png": "[encoded data removed]",
            "text/plain": [
              "<Figure size 640x480 with 1 Axes>"
            ]
          },
          "metadata": {},
          "output_type": "display_data"
        }
      ],
      "source": [
        "import matplotlib.pyplot as plt\n",
        "import numpy as np\n",
        "\n",
        "def f(x):\n",
        "    f=1.85*x\n",
        "    return f\n",
        "\n",
        "x=np.arange(0,3568,1)\n",
        "plt.plot(x,f(x),label=(\"f\"))\n",
        "plt.title(\"Largo del cable en funcion del tiempo\")\n",
        "plt.xlabel(\"Tiempo transcurrido (Hrs)\")\n",
        "plt.ylabel(\"Largo del cable (Km)\")\n",
        "plt.grid()\n",
        "plt.legend()\n",
        "plt.plot(148,f(148),\"ro\")\n",
        "plt.plot(2300,f(2300),marker=\"o\")\n",
        "\n",
        "ax=plt.gca()\n",
        "ax.spines[[\"left\",\"bottom\"]].set_position((\"data\",0))\n",
        "ax.spines[[\"right\",\"top\"]].set_visible(False)\n",
        "\n",
        "\n",
        "plt.show()\n"
      ]
    },
    {
      "cell_type": "markdown",
      "metadata": {},
      "source": [
        "5.   ¿Cuántos metros de cable se instalaron al transcurrir $148$ horas? ¿Y transcurridas $2.300$ horas?\n"
      ]
    },
    {
      "cell_type": "code",
      "execution_count": 27,
      "metadata": {},
      "outputs": [
        {
          "name": "stdout",
          "output_type": "stream",
          "text": [
            "al transcurrir 148 horas se han instalado 273.8km de cable\n",
            "4255.0\n"
          ]
        }
      ],
      "source": [
        "print(f\"al transcurrir 148 horas se han instalado {f(148)}km de cable\")\n",
        "print(f\"{f(2300)}\")"
      ]
    },
    {
      "cell_type": "markdown",
      "metadata": {},
      "source": [
        "6.   Si se han instalado $3.480$ kilometros de cable, ¿cuántas horas llevan de trabajo?"
      ]
    },
    {
      "cell_type": "code",
      "execution_count": 12,
      "metadata": {},
      "outputs": [
        {
          "name": "stdout",
          "output_type": "stream",
          "text": [
            "1881.1\n",
            "Al transcurrir 1881.1 horas see han instalado los 3480 km\n"
          ]
        }
      ],
      "source": [
        "import sympy as sp\n",
        "def L(t):\n",
        "    L=1.85*t\n",
        "    return L\n",
        "x=sp.Symbol(\"x\")\n",
        "ecuacion = L(x)-3480\n",
        "solucion = sp.solve(ecuacion,x)\n",
        "print(round(solucion[0],1))\n",
        "print(f\"Al transcurrir {round(solucion[0],1)} horas see han instalado los 3480 km\")"
      ]
    },
    {
      "cell_type": "markdown",
      "metadata": {},
      "source": [
        "7.   ¿Cuánto tiempo transcurrió para que se completara la obra?"
      ]
    },
    {
      "cell_type": "code",
      "execution_count": null,
      "metadata": {},
      "outputs": [],
      "source": [
        "print(f\"El tiempo de para terminar la obra equivale a {6600/1.85}\")"
      ]
    },
    {
      "cell_type": "markdown",
      "metadata": {
        "id": "FMr921rUDxvV"
      },
      "source": [
        "# Problema 5"
      ]
    },
    {
      "cell_type": "markdown",
      "metadata": {
        "id": "Iuo-QM5vGSiW"
      },
      "source": [
        "Un turista ha llegado a Santiago y desea conocer algunos lugares de la ciudad. Ha decidido visitar el Palacio de la Moneda y desde ahí trasladarse al centro comercial \"Costanera Center\", utilizando algún medio de transporte que ofrece la ciudad.\n",
        "\n",
        "Si se traslada en metro deberá abordar en estación La Moneda y bajar en la estación Tobalaba ($9$ estaciones). La función $f(t)$ permite calcular la distancia recorrida utilizando el metro (en kilómetros) transcurridos $t$ minutos.\n",
        "\n",
        "$$f(t) = 0,4t$$\n",
        "\n",
        "Si se traslada en bus, el turista podrá observar la ciudad y otros atractivos en su viaje. La función $g(t)$ permite calcular la distancia recorrida en bus (en kilómetros) transcurridos $t$ minutos.\n",
        "\n",
        "$$g(t) = 0,3t$$\n",
        "\n",
        "Según la información anterior:\n",
        "\n",
        "1. Grafique ambas funciones, indicando el nombre de cada eje junto con su unidad de medida. Para realizar el gráfico utilice la biblioteca *Matplotlib*.\n",
        "2.  Si se sabe que el metro se demora $1,2$ minutos en llegar desde una estación a otra y espera $30$ segundos en cada estación, indique el dominio contextualizado para $f(t)$.\n",
        "3. Mediante análisis gráfico, indique cuál medio de transporte es más conveniente en términos de tiempo, para el turista. Justifique.\n",
        "4.  Si se sabe que desde estación La Moneda hasta Tobalaba son aproximadamente $6$ kilómetros ¿cuántos tiempo tardará el turista en llegar a su destino con cada una de las opciones?"
      ]
    },
    {
      "cell_type": "code",
      "execution_count": null,
      "metadata": {},
      "outputs": [],
      "source": [
        "1. Grafique ambas funciones, indicando el nombre de cada eje junto con su unidad de medida. Para realizar el gráfico utilice la biblioteca *Matplotlib*."
      ]
    },
    {
      "cell_type": "code",
      "execution_count": null,
      "metadata": {},
      "outputs": [],
      "source": [
        "def f(t):\n",
        "    return 0.4*t\n",
        "\n",
        "def g(t2):\n",
        "    return 0.3*t2"
      ]
    },
    {
      "cell_type": "code",
      "execution_count": 9,
      "metadata": {},
      "outputs": [
        {
          "data": {
            "text/plain": [
              "<function matplotlib.pyplot.show(close=None, block=None)>"
            ]
          },
          "execution_count": 9,
          "metadata": {},
          "output_type": "execute_result"
        },
        {
          "data": {
            "image/png": "[encoded data removed]",
            "text/plain": [
              "<Figure size 640x480 with 1 Axes>"
            ]
          },
          "metadata": {},
          "output_type": "display_data"
        }
      ],
      "source": [
        "import matplotlib.pyplot as plt\n",
        "import numpy as np\n",
        "\n",
        "t=np.arange(0,15,0.1)\n",
        "metro=0.4*t\n",
        "bus=0.3*t\n",
        "\n",
        "plt.plot(t,metro,label=\"Metro\")\n",
        "plt.plot(t,bus,label=\"bus\")\n",
        "\n",
        "plt.grid(True)\n",
        "plt.show"
      ]
    },
    {
      "cell_type": "markdown",
      "metadata": {},
      "source": [
        "2.  Si se sabe que el metro se demora $1,2$ minutos en llegar desde una estación a otra y espera $30$ segundos en cada estación, indique el dominio contextualizado para $f(t)$."
      ]
    },
    {
      "cell_type": "code",
      "execution_count": 16,
      "metadata": {},
      "outputs": [
        {
          "name": "stdout",
          "output_type": "stream",
          "text": [
            "15.0\n",
            "6.0\n",
            "20.0\n"
          ]
        }
      ],
      "source": [
        "#dom=(0,4*t=6)\n",
        "#dom=6/0,4=t\n",
        "\n",
        "print(6/0.4)\n",
        "print(15*0.4)\n",
        "\n",
        "#el dominio contextualizado en metro es de 15 min\n",
        "\n",
        "print(6/0.3)\n",
        "\n",
        "#el dominio contextualizado en bus es de 20 min"
      ]
    },
    {
      "cell_type": "markdown",
      "metadata": {},
      "source": [
        "3. Mediante análisis gráfico, indique cuál medio de transporte es más conveniente en términos de tiempo, para el turista. Justifique."
      ]
    },
    {
      "cell_type": "markdown",
      "metadata": {},
      "source": [
        "En base al grafico, el metro es mas conveniente ya que recorre mas kilometros en menos tiempo, significando que es mas rapido y veloz"
      ]
    },
    {
      "cell_type": "markdown",
      "metadata": {},
      "source": [
        "4.  Si se sabe que desde estación La Moneda hasta Tobalaba son aproximadamente $6$ kilómetros ¿cuántos tiempo tardará el turista en llegar a su destino con cada una de las opciones?"
      ]
    },
    {
      "cell_type": "code",
      "execution_count": null,
      "metadata": {},
      "outputs": [],
      "source": []
    },
    {
      "cell_type": "markdown",
      "metadata": {
        "id": "C5psSJY-S9x4"
      },
      "source": [
        "# Problema 6"
      ]
    },
    {
      "cell_type": "markdown",
      "metadata": {
        "id": "0v3a4hJATUgX"
      },
      "source": [
        "La temperatura de un servidor (en °C) puede ser modelada mediante la función\n",
        "\n",
        "$$T(t) = -0,5 t^{2} + 3 t + 20$$\n",
        "\n",
        "donde $t$ corresponde al tiempo transcurrido (en horas) en un día laboral. Considere que la jornada laboral comienza a las 08:00 horas y termina a las 17:00 horas.\n",
        "\n",
        "1.  Defina variable dependiente e independiente, indicando unidad de medida.\n",
        "    R; Variable dependiente = Temperatura (C°)\n",
        "        Variable independiente = Tiempo transcurrido (Horas)\n",
        "\n",
        "2.  Determine el dominio contextualizado del problema.\n",
        "    R; Desde 0 hasta 9 horas, o bien, {0,9}\n",
        "\n",
        "3.  Grafique la función utilizando *Python*.\n",
        "    \n",
        "4.  Mediante un análisis gráfico, estime cuándo el servidor alcanza la máxima temperatura y calcule cuánto es.\n",
        "\n",
        "5.  Determine la temperatura del servidor a las 13:00 horas y al finalizar la jornada laboral.\n"
      ]
    },
    {
      "cell_type": "code",
      "execution_count": 20,
      "metadata": {},
      "outputs": [
        {
          "data": {
            "image/png": "[encoded data removed]",
            "text/plain": [
              "<Figure size 640x480 with 1 Axes>"
            ]
          },
          "metadata": {},
          "output_type": "display_data"
        }
      ],
      "source": [
        "#3.-\n",
        "import matplotlib.pyplot as plt\n",
        "\n",
        "import numpy as np\n",
        "\n",
        "#T(t) = -0,5 t^{2} + 3 t + 20\n",
        "\n",
        "def T(t):\n",
        "    T=-0.5*t**2+3*t+20\n",
        "    return T\n",
        "\n",
        "x= np.arange(0,9.1,0.1)\n",
        "plt.plot(x,T(x),label=\"T(t)\")\n",
        "plt.plot(3,T(3), marker=\"o\")\n",
        "plt.title(\"Relacion tiempo con horas y temp en c°\")\n",
        "plt.xlabel(\"Tiempo transcurrido en horas\")\n",
        "plt.ylabel(\"Temperatura en C°\")\n",
        "plt.grid()\n",
        "plt.legend()\n",
        "plt.xlim(0,9)\n",
        "plt.ylim(0,25)\n",
        "ax=plt.gca()\n",
        "ax.spines[[\"left\",\"bottom\"]].set_position((\"data\",0))\n",
        "ax.spines[[\"right\",\"top\"]].set_visible(False)\n",
        "plt.show()"
      ]
    },
    {
      "cell_type": "code",
      "execution_count": null,
      "metadata": {},
      "outputs": [
        {
          "name": "stdout",
          "output_type": "stream",
          "text": [
            "La temperatura maxima maxima se alcanza a las 11 am y esta es de 24.5C°\n"
          ]
        }
      ],
      "source": [
        "4#\n",
        "print(f\"La temperatura maxima maxima se alcanza a las 11 am y esta es de {T(3)}C°\")\n"
      ]
    },
    {
      "cell_type": "code",
      "execution_count": null,
      "metadata": {},
      "outputs": [
        {
          "name": "stdout",
          "output_type": "stream",
          "text": [
            "la temperatura a las 13 horas es de 22.5C° y al terminar jornada es de 6.5C°\n"
          ]
        }
      ],
      "source": [
        "#5\n",
        "print(f\"la temperatura a las 13 horas es de {T(5)}C° y al terminar jornada es de {T(9)}C°\")"
      ]
    },
    {
      "cell_type": "markdown",
      "metadata": {
        "id": "pD_SzSu3jBkn"
      },
      "source": [
        "# Problema 7"
      ]
    },
    {
      "cell_type": "markdown",
      "metadata": {
        "id": "OJyAOwerjJ5m"
      },
      "source": [
        "El número de usuarios de una red social se puede modelar mediante la función:\n",
        "\n",
        "$$U(t) = \\frac{1.000}{1+9e^{-0.5t}}$$\n",
        "\n",
        "donde $t$ corresponde al tiempo transcurrido en meses.\n",
        "\n",
        "1.  Defina variable dependiente e independiente, indicando unidad de medida.\n",
        "    \n",
        "    R: Variable Dependiente: Numero de usuarios (unidades)\n",
        "        Variable independiente: Tiempo transcurrido (Meses)"
      ]
    },
    {
      "cell_type": "markdown",
      "metadata": {},
      "source": [
        "2.  Determine la cantidad de usuarios transcurridos $12$ meses.\n"
      ]
    },
    {
      "cell_type": "code",
      "execution_count": 27,
      "metadata": {},
      "outputs": [
        {
          "name": "stdout",
          "output_type": "stream",
          "text": [
            "la cantidad de Usuarios transcurrido en 12 meses es de 978.\n"
          ]
        }
      ],
      "source": [
        "#2.-\n",
        "import numpy as np\n",
        "e=np.e\n",
        "\n",
        "def U(t):\n",
        "    U=1000/(1+9*e**(-0.5*t))\n",
        "    return U\n",
        "\n",
        "print(f\"la cantidad de Usuarios transcurrido en 12 meses es de {round(U(12))}.\")\n"
      ]
    },
    {
      "cell_type": "markdown",
      "metadata": {},
      "source": [
        "3.  Grafique la función, utilizando la librería *Matplotlib*, para los primeros dos años de funcionamiento."
      ]
    },
    {
      "cell_type": "code",
      "execution_count": 35,
      "metadata": {},
      "outputs": [
        {
          "data": {
            "image/png": "[encoded data removed]",
            "text/plain": [
              "<Figure size 640x480 with 1 Axes>"
            ]
          },
          "metadata": {},
          "output_type": "display_data"
        }
      ],
      "source": [
        "#3.-\n",
        "import matplotlib.pyplot as plt\n",
        "\n",
        "import numpy as np\n",
        "e=np.e\n",
        "x= np.arange(0,24,0.1)\n",
        "def U(t):\n",
        "    U=1000/(1+9*e**(-0.5*t))\n",
        "    return U\n",
        "plt.plot(x,U(x),label=\"U(t)\")\n",
        "plt.title(\"Crecimiento red social por mes\")\n",
        "plt.xlabel(\"Tiempo en meses\")\n",
        "plt.ylabel(\"Cantida de usuarios\")\n",
        "plt.grid()\n",
        "plt.legend()\n",
        "ax=plt.gca()\n",
        "ax.spines[[\"left\",\"bottom\"]].set_position((\"data\",0))\n",
        "ax.spines[[\"right\",\"top\"]].set_visible(False)\n",
        "plt.show()"
      ]
    },
    {
      "cell_type": "markdown",
      "metadata": {},
      "source": [
        "4.  ¿Cuánto tiempo debe pasar para que la red social llegue a $800$ usuarios?"
      ]
    },
    {
      "cell_type": "code",
      "execution_count": null,
      "metadata": {},
      "outputs": [
        {
          "name": "stdout",
          "output_type": "stream",
          "text": [
            "Al pasar 8 meses la red social  llega a 858 usuarios. \n",
            "Al pasar 7.2 meses llega a los 800 usuarios justos.\n"
          ]
        }
      ],
      "source": [
        "#4\n",
        "print(f\"Al pasar 8 meses la red social  llega a {round(U(8))} usuarios. \")\n",
        "\n",
        "import numpy as np\n",
        "import sympy as sp\n",
        "e=np.e\n",
        "def U(t):\n",
        "    U=1000/(1+9*e**(-0.5*t))\n",
        "    return U\n",
        "\n",
        "t=sp.Symbol(\"t\")\n",
        "ecuacion=U(t)-800\n",
        "solucion=sp.solve(ecuacion,t)\n",
        "\n",
        "#print(round(solucion[0],1))\n",
        "\n",
        "print(f\"Al pasar {round(solucion[0],1)} meses llega a los 800 usuarios exactos.\")"
      ]
    },
    {
      "cell_type": "markdown",
      "metadata": {
        "id": "TaZ_E6YwB0I4"
      },
      "source": [
        "# Problema 8"
      ]
    },
    {
      "cell_type": "markdown",
      "metadata": {
        "id": "HwpmaO5cDO43"
      },
      "source": [
        "El tiempo de ejecución de un algoritmo de ordenación (en segundos) se puede modelar mediante la función:\n",
        "\n",
        "$$A(n) = 0,01n^{2} + 0,5n + 2$$\n",
        "\n",
        "donde $n$ corresponde a la cantidad de elementos a ordenar. El algoritmo funciona desde las 23:00 horas hasta las 06:00 horas y debe ordenar $1.562$ elementos.\n",
        "\n",
        "1. Defina variable dependiente e independiente, indicando unidad de medida.\n",
        "\n",
        "    R: Variable dependiente; Tiempo de ejecuccion de un algoritmo (Segundos)\n",
        "        Variable independiente; Cantidad de elementos a ordenar (Unidad)\n",
        "\n",
        "\n",
        "2. Determine el dominio contextualizado de la función.\n",
        "\n",
        "    R: Desde 0 a 1562, (elementos), o bien, [0,1562]\n",
        "\n",
        "\n",
        "\n",
        "\n",
        "4. Grafique, utilizando la biblioteca *Matplotlib*, la función $A(n)$.\n",
        "5. ¿Cuántos elementos ordena luego de $6$ horas de funcionamiento?"
      ]
    },
    {
      "cell_type": "markdown",
      "metadata": {},
      "source": [
        "\n",
        "3. Determine el tiempo de ejecución para ordenar $1.200$ elementos."
      ]
    },
    {
      "cell_type": "code",
      "execution_count": 49,
      "metadata": {},
      "outputs": [
        {
          "name": "stdout",
          "output_type": "stream",
          "text": [
            "El tiempo de ejecucion para 1200 elementos es 15002.0 segundos. (4.2 horas)\n"
          ]
        }
      ],
      "source": [
        "#3\n",
        "\n",
        "def A(n):\n",
        "    A=0.01*n**2+0.5*n+2\n",
        "    return A\n",
        "print(f\"El tiempo de ejecucion para 1200 elementos es {A(1200)} segundos. ({round(A(1200)/3600,1)} horas)\")"
      ]
    },
    {
      "cell_type": "markdown",
      "metadata": {
        "id": "yOcCVQKdOeGC"
      },
      "source": [
        "# Problema 9"
      ]
    },
    {
      "cell_type": "markdown",
      "metadata": {
        "id": "QZl4iQT2Ognb"
      },
      "source": [
        "El consumo de energía (en $kWh$) de un *Data Center* puede ser modelado por la función:\n",
        "\n",
        " $$E(t) = 50\\cdot \\log(t + 1) + 200$$\n",
        "\n",
        "donde $t$ corresponde al tiempo (en horas) desde el inicio del monitoreo.\n",
        "\n",
        "1. Defina variable dependiente e independiente, indicando unidad de medida.\n",
        "2. Determine el consumo de energía del *Data Center* después de $5$ horas.\n",
        "3. ¿Luego de cuántas horas el consumo será de $350$ kWh?\n",
        "4. Grafique, utilizando la biblioteca *Matplotlib*, la función $E(t)$."
      ]
    },
    {
      "cell_type": "markdown",
      "metadata": {
        "id": "OHKN7SIFyh2-"
      },
      "source": [
        "# Problema 10"
      ]
    },
    {
      "cell_type": "markdown",
      "metadata": {
        "id": "T1ooPV9Ny4mr"
      },
      "source": [
        "En gestión de proyectos, es crucial entender cómo se distribuye la carga de trabajo a lo largo del tiempo para planificar recursos, tiempo y esfuerzos de manera eficiente. Un fenómeno común es la disminución exponencial de la carga de trabajo, donde el esfuerzo requerido es mayor al inicio del proyecto y disminuye gradualmente a medida que se completan las tareas principales.\n",
        "\n",
        "Esta disminución exponencial puede modelarse matemáticamente para predecir y gestionar el trabajo de manera efectiva.\n",
        "\n",
        "<br>\n",
        "\n",
        "Un estudio sobre gestión de proyectos sostiene que la carga de trabajo en un proyecto (en porcentaje) puede ser modelada por la función:\n",
        "\n",
        "$$W(t) = 100e^{-0.1t}$$\n",
        "\n",
        "donde $t$ corresponde al tiempo transcurrido (en semanas) desde el inicio del proyecto.\n",
        "\n",
        "1. Defina variable dependiente e independiente, indicando unidad de medida.\n",
        "2. Determine la carga de trabajo al inicio del proyecto.\n",
        "3. ¿Cuál será la carga de trabajo luego de transcurridas $4$ semanas desde el inicio del proyecto?\n",
        "4. Si el proyecto duró $12$ semanas, ¿es correcto afirmar que la carga de trabajo llegó al $20\\%$?\n",
        "5. ¿Cuántas semanas han pasado desde el inicio del proyecto para que la carga de trabajo sea de $55\\%$?\n",
        "6. Utilizando *Matplotlib*, grafique la función considerando un tiempo máximo de $12$ semanas."
      ]
    }
  ],
  "metadata": {
    "colab": {
      "provenance": [],
      "toc_visible": true
    },
    "kernelspec": {
      "display_name": "base",
      "language": "python",
      "name": "python3"
    },
    "language_info": {
      "codemirror_mode": {
        "name": "ipython",
        "version": 3
      },
      "file_extension": ".py",
      "mimetype": "text/x-python",
      "name": "python",
      "nbconvert_exporter": "python",
      "pygments_lexer": "ipython3",
      "version": "3.11.5"
    }
  },
  "nbformat": 4,
  "nbformat_minor": 0
}
