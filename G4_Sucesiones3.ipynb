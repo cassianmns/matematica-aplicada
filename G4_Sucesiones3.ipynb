{
  "cells": [
    {
      "cell_type": "markdown",
      "metadata": {
        "id": "Jsg7AmugfdN3"
      },
      "source": [
        "# Problema 1"
      ]
    },
    {
      "cell_type": "markdown",
      "metadata": {},
      "source": []
    },
    {
      "cell_type": "markdown",
      "metadata": {
        "id": "_IzpNklvfgKe"
      },
      "source": [
        "Considere la sucesión $a_{n} = 3n^{2} + 7$. Por medio de un código en *Python* despliega en pantalla:\n",
        "\n",
        "1. Los primeros $5$ términos.\n",
        "2. Los $5$ términos que vienen inmediatamente después del decimoquinto término."
      ]
    },
    {
      "cell_type": "code",
      "execution_count": 3,
      "metadata": {},
      "outputs": [
        {
          "name": "stdout",
          "output_type": "stream",
          "text": [
            "a_1=10\n",
            "a_2=19\n",
            "a_3=34\n",
            "a_4=55\n",
            "a_5=82\n",
            "[10, 19, 34, 55, 82]\n",
            "a_16=775\n",
            "a_17=874\n",
            "a_18=979\n",
            "a_19=1090\n",
            "a_20=1207\n",
            "[775, 874, 979, 1090, 1207]\n"
          ]
        }
      ],
      "source": [
        "def a(n):\n",
        "    return 3*n**2+7\n",
        "#los 5 primeros terminos\n",
        "L=[]\n",
        "for i in range(1,6):\n",
        "    L.append(a(i))\n",
        "    print(f\"a_{i}={a(i)}\")\n",
        "print(L)\n",
        "#los 5 terminos luego del decimoquinto\n",
        "L2=[]\n",
        "for i in range(16,21):\n",
        "    L2.append(a(i))\n",
        "    print(f\"a_{i}={a(i)}\")\n",
        "print(L2)\n"
      ]
    },
    {
      "cell_type": "markdown",
      "metadata": {
        "id": "MpHLoYWfk97E"
      },
      "source": [
        "# Problema 2"
      ]
    },
    {
      "cell_type": "markdown",
      "metadata": {
        "id": "TdrPqS7Mk_l0"
      },
      "source": [
        "Considere la sucesión $g_{n} = 5n^{3}$. Implemente un código en *Python* que muestre en pantalla:\n",
        "\n",
        "1. Los primeros $4$ términos de la sucesión.\n",
        "2. Los $4$ términos que vienen inmediatamente después del octavo término.\n",
        "3. Determinar si el término $40.000$ pertenece a la sucesión. Si es así, indicar en qué posición se encuentra."
      ]
    },
    {
      "cell_type": "code",
      "execution_count": 2,
      "metadata": {},
      "outputs": [
        {
          "name": "stdout",
          "output_type": "stream",
          "text": [
            "g_1=5\n",
            "g_2=40\n",
            "g_3=135\n",
            "g_4=320\n",
            "[5, 40, 135, 320]\n",
            "g_9=3645\n",
            "g_10=5000\n",
            "g_11=6655\n",
            "g_12=8640\n",
            "[3645, 5000, 6655, 8640]\n",
            "20\n",
            "si pertenece a la sucesión es el numero 20\n"
          ]
        }
      ],
      "source": [
        "def g(n):\n",
        "    return 5*n**3\n",
        "#los 4 primeros terminos\n",
        "L=[]\n",
        "for i in range(1,5):\n",
        "    L.append(g(i))\n",
        "    print(f\"g_{i}={g(i)}\")\n",
        "print(L)\n",
        "#los 4 terminos luego del octavo\n",
        "L2=[]\n",
        "for i in range(9,13):\n",
        "    L2.append(g(i))\n",
        "    print(f\"g_{i}={g(i)}\")\n",
        "print(L2)\n",
        "#40 mil\n",
        "import sympy as sp \n",
        "\n",
        "\n",
        "\n",
        "x=sp.Symbol(\"x\")\n",
        "ecuacion= g(x)-40000\n",
        "solucion=sp.solve(ecuacion,x)\n",
        "#print(solucion)\n",
        "print(round(solucion[0])) #\"para mostrar la solución i\"\n",
        "print(\"si pertenece a la sucesión es el numero 20\")\n",
        "\n"
      ]
    },
    {
      "cell_type": "markdown",
      "metadata": {
        "id": "7GDU-KDLuR7i"
      },
      "source": [
        "# Problema 3"
      ]
    },
    {
      "cell_type": "markdown",
      "metadata": {
        "id": "GG1duXd1uU6Z"
      },
      "source": [
        "La sucesión de Fibonacci es una serie de números en la que cada número, desde el tercero en adelante, es la suma de los dos anteriores. Comienza con el $0$ y $1$, tal como se observa a continuación:\n",
        "\n",
        "$$0, 1, 1, 2, 3, 5, 8, 13, ...$$\n",
        "\n",
        "Formalmente, la sucesión se define de la siguiente manera:\n",
        "\n",
        "\\begin{split}\n",
        "F(0) &= 0\\\\\n",
        "F(1) &= 1\\\\\n",
        "F(n) &= F(n - 1) + F(n - 2), \\ \\text{ para $n \\geq 2$}\n",
        "\\end{split}\n",
        "\n",
        "Esta sucesión se utiliza en una variedad de contextos en informática y algoritmos debido a sus propiedades matemáticas y patrones.\n",
        "\n",
        "1. Implementa un código en *Python* que muestre en pantalla los primeros $20$ términos de la sucesión.\n",
        "2. Calcula, utilizando un ciclo *for*, la suma de los primeros $30$ términos de la sucesión de Fibonacci."
      ]
    },
    {
      "cell_type": "markdown",
      "metadata": {
        "id": "OFL3b7nt8Rq_"
      },
      "source": [
        "# Problema 4"
      ]
    },
    {
      "cell_type": "markdown",
      "metadata": {
        "id": "j5QlZQwJSDsZ"
      },
      "source": [
        "Implementa un código que permita guardar en una lista la sucesión de los primeros $n$ números pares, con $n \\geq 1$. Luego, determina:\n",
        "\n",
        "1. ¿Cuál es el valor del décimo término?\n",
        "2. Calcula, utilizando un ciclo *for*, la suma de los primeros $100$ números pares.\n",
        "3. ¿En qué posición se encuentra el número $58$ dentro de la sucesión?"
      ]
    },
    {
      "cell_type": "code",
      "execution_count": null,
      "metadata": {},
      "outputs": [
        {
          "name": "stdout",
          "output_type": "stream",
          "text": [
            "El decimo termino es: 20\n",
            "La suma de los primeros 100 numeros pares es: 10100\n",
            "58\n"
          ]
        }
      ],
      "source": [
        "def F(n):\n",
        "    return 2*n\n",
        "#ls primeros 10 terminos\n",
        "L=[]\n",
        "for i in range(1,11):\n",
        "    L.append(F(i))\n",
        "    #print(f\"g_{i}={g(i)}\")\n",
        "#print(L)\n",
        "#print(F(10))\n",
        "print(f\"El decimo termino es: {F(10)}\")\n",
        "\n",
        "#la suma de los primeros 100 numeros pares:\n",
        "S=0\n",
        "for i in range(1,101):\n",
        "    S+=F(i)\n",
        "#print(S)\n",
        "print(f\"La suma de los primeros 100 numeros pares es: {S}\")\n",
        "\n"
      ]
    },
    {
      "cell_type": "code",
      "execution_count": null,
      "metadata": {},
      "outputs": [
        {
          "name": "stdout",
          "output_type": "stream",
          "text": [
            "29\n",
            "El numero 58 se encuentra en la posicion 29\n"
          ]
        }
      ],
      "source": [
        "x=sp.Symbol(\"x\")\n",
        "ecuacion= F(x)-58\n",
        "solucion=sp.solve(ecuacion,x)\n",
        "#print(solucion)\n",
        "print(round(solucion[0]))\n",
        "print(\"El numero 58 se encuentra en la posicion 29\")\n"
      ]
    },
    {
      "cell_type": "markdown",
      "metadata": {
        "id": "gBcDYpK2Z3GT"
      },
      "source": [
        "# Problema 5"
      ]
    },
    {
      "cell_type": "markdown",
      "metadata": {
        "id": "eS3i68R4Z6YQ"
      },
      "source": [
        "Un nuevo software tiene $500$ usuarios y se espera que el número de usuarios crezca un $15\\%$ respecto al mes anterior. Considere que $b_{n}$ es el número de usuarios transcurridos $n$ meses.\n",
        "\n",
        "1. Calcula cuántos usuarios tendrá el software al cabo de tres meses. ¿Y al cabo de seis meses?\n",
        "2. Mediante un código en *Pyhton* muestra la cantidad de usuarios que tendrá el software cada mes durante el primer año.\n",
        "2. ¿Cuántos usuarios tendrá en total el software luego de un año? Utilice ciclos *for* para calcular."
      ]
    },
    {
      "cell_type": "code",
      "execution_count": 17,
      "metadata": {},
      "outputs": [
        {
          "name": "stdout",
          "output_type": "stream",
          "text": [
            "cantidad de supscriptores a los 3 meses es de 760\n",
            "y la cantidad a los 6 meses es de 1157\n",
            "[ 575.  661.  760.  875. 1006. 1157. 1330. 1530. 1759. 2023. 2326. 2675.]\n",
            "2675\n"
          ]
        }
      ],
      "source": [
        "import numpy as np\n",
        "def b(n):\n",
        "    return 500*1.15**n\n",
        "L=[]\n",
        "for i in range(1,6):\n",
        "    L.append(F(i))\n",
        "print(f\"cantidad de supscriptores a los 3 meses es de {round(b(3))}\")\n",
        "print(f\"y la cantidad a los 6 meses es de {round(b(6))}\")\n",
        "\n",
        "\n",
        "L=[]\n",
        "for i in range(1,13):\n",
        "    L.append(b(i))\n",
        "    #print(f\"g_{i}={g(i)}\")\n",
        "print(np.around(L))\n",
        "print(round(b(12)))"
      ]
    },
    {
      "cell_type": "markdown",
      "metadata": {
        "id": "s2hruXWnJDbS"
      },
      "source": [
        "# Problema 6"
      ]
    },
    {
      "cell_type": "markdown",
      "metadata": {
        "id": "hH_VNmA_Og0U"
      },
      "source": [
        "Un estudiante de ingeniería informática planea ahorrar para un proyecto personal. Para esto, el primer mes deposita en una cuenta $\\$12.000$, el segundo mes deposita $\\$14.000$ y así sucesivamente, de modo que cada mes aumenta el depósito en $\\$2.000$. Considere que $a_{i}$ corresponde al depósito del estudiante en el mes $i$.\n",
        "\n",
        "1. Implementa un código que permita mostrar en pantalla lo que depositó mensualmente durante el primer año.\n",
        "2. ¿Cuánto depositó el estudiante en febrero del segundo año?\n",
        "3. ¿Cuál será el total ahorrado al finalizar dos años?"
      ]
    },
    {
      "cell_type": "code",
      "execution_count": 24,
      "metadata": {},
      "outputs": [
        {
          "name": "stdout",
          "output_type": "stream",
          "text": [
            "[12000 14000 16000 18000 20000 22000 24000 26000 28000 30000 32000 34000]\n",
            "el deposito de febrero del segudno año es 38000 mil\n"
          ]
        }
      ],
      "source": [
        "def f(x):\n",
        "    return 10000+2000*x\n",
        "\n",
        "L=[]\n",
        "for i in range(1,13):\n",
        "    L.append(f(i))\n",
        "print(np.around(L))\n",
        "print(f\"el deposito de febrero del segudno año es {round(f(14))} mil\")"
      ]
    },
    {
      "cell_type": "code",
      "execution_count": 27,
      "metadata": {},
      "outputs": [
        {
          "name": "stdout",
          "output_type": "stream",
          "text": [
            "la suma de los meses es de 276000\n"
          ]
        }
      ],
      "source": [
        "print(f\"la suma de los meses es de {sum(L)}\")"
      ]
    },
    {
      "cell_type": "markdown",
      "metadata": {
        "id": "G9sEfl4rB3e8"
      },
      "source": [
        "# Problema 7"
      ]
    },
    {
      "cell_type": "markdown",
      "metadata": {
        "id": "KZUNnG20CT4F"
      },
      "source": [
        "Por lo general, los proyectos son organizados en varias etapas que deben completarse secuencialmente.\n",
        "\n",
        "La fase inicial de un proyecto de software tiene una duración de $3$ meses y cada fase subsecuente reduce su duración en un $10 \\%$ debido a la experiencia ganada. Determine:\n",
        "\n",
        "1. ¿Cuánto dura la quinta fase?\n",
        "2. Calcula la duración total del proyecto después de $10$ fases."
      ]
    },
    {
      "cell_type": "code",
      "execution_count": 8,
      "metadata": {},
      "outputs": [
        {
          "name": "stdout",
          "output_type": "stream",
          "text": [
            "La quinta fase duro 1.8 meses aprox\n"
          ]
        }
      ],
      "source": [
        "#pregunta 1\n",
        "#a_n*r**(n-1)\n",
        "\n",
        "a0 =3\n",
        "r=0.9\n",
        "a1 = a0*0.9\n",
        "\n",
        "def a(n):\n",
        "    return a1*r**(n-1)\n",
        "\n",
        "print(f\"La quinta fase duro {round(a(5),1)} meses aprox\")"
      ]
    },
    {
      "cell_type": "code",
      "execution_count": 18,
      "metadata": {},
      "outputs": [
        {
          "name": "stdout",
          "output_type": "stream",
          "text": [
            " la duracion total del proyecto luego de 10 fases es de 20.6 meses aprox\n"
          ]
        }
      ],
      "source": [
        "import numpy as np\n",
        "L=[]\n",
        "for i in range(0,11):\n",
        "    L.append(a(i))\n",
        "suma=round(sum(L),1)\n",
        "print(f\" la duracion total del proyecto luego de 10 fases es de {suma} meses aprox\")\n",
        "\n",
        "\n"
      ]
    },
    {
      "cell_type": "markdown",
      "metadata": {},
      "source": [
        "Una sucesión aritmética es una secuencia tal que entre un término y el anterior existe una diferencia constante\n",
        "a esta diferencia la llamaremos \"d\". \n",
        "\n",
        "TERMINO GENERAL DE UNA SUCESION ARIMETICA:\n",
        "a_n=n_1+(n-1)*d\n",
        "\n",
        "ejemplos:   calculando la diferencia\n",
        "a_10=a_7+3d --> d=(a_10-a_7)/3\n",
        "a_50=a_40+10d --> d=80 = 64 ; a_71=100\n",
        "#NECESITAMOS LA EXPRESION GENERAL DE LA SUCESION: \n",
        "\n",
        "d=(a-80-a_71)/9\n",
        "d=(64 - 100)/9\n",
        "\n",
        "a_1=a_80-79*d o bien : a_1=a_71-70*d\n",
        "\n",
        "la expresion general es : a_n=380+(n-1)*(-4)\n",
        "\n",
        "\n"
      ]
    },
    {
      "cell_type": "code",
      "execution_count": 18,
      "metadata": {},
      "outputs": [
        {
          "name": "stdout",
          "output_type": "stream",
          "text": [
            "-4.0\n",
            "380.0\n",
            "380.0\n"
          ]
        }
      ],
      "source": [
        "a_80=64\n",
        "a_71=100\n",
        "d=(64-100)/9\n",
        "print(d)\n",
        "a_1=a_80-79*d\n",
        "print(a_1)\n",
        "a_1=a_71-70*d\n",
        "print(a_1)"
      ]
    },
    {
      "cell_type": "code",
      "execution_count": null,
      "metadata": {},
      "outputs": [],
      "source": []
    },
    {
      "cell_type": "markdown",
      "metadata": {
        "id": "keVOy_xIlU1E"
      },
      "source": [
        "# Problema 8"
      ]
    },
    {
      "cell_type": "markdown",
      "metadata": {
        "id": "QXrNG-zulXil"
      },
      "source": [
        "En una sucesión aritmética, la diferencia entre un término y el anterior es $4$ y el décimo término es $-20$. Determine:\n",
        "\n",
        "1. El primer término de la sucesión.\n",
        "2. La expresión del término de lugar $n$.\n",
        "3. Utilice un código en *Python* para calcular el término que ocupa el lugar $100$.\n",
        "4. Determinar la posición del número $1.680$ en la secuencia. Calcule utilizando un ciclo *while*."
      ]
    },
    {
      "cell_type": "code",
      "execution_count": 30,
      "metadata": {},
      "outputs": [
        {
          "name": "stdout",
          "output_type": "stream",
          "text": [
            "-56\n",
            "en este caso seria a_n=-56+(n-1)*4\n",
            "340\n",
            "435\n",
            "435\n",
            "1680\n"
          ]
        }
      ],
      "source": [
        "#pregunta 1\n",
        "import sympy as sp\n",
        "d=4\n",
        "a_10=-20\n",
        "a_1=a_10-9*d\n",
        "print(a_1)\n",
        "#pregunta 2\n",
        "print(\"en este caso seria a_n=-56+(n-1)*4\")\n",
        "#pregunta 3\n",
        "def a(n):\n",
        "    return -56+(n-1)*4\n",
        "print(a(100))\n",
        "\n",
        "#pregunta 4\n",
        "n=sp.Symbol(\"n\")\n",
        "ecuacion= a(n)-1680\n",
        "solucion=sp.solve(ecuacion,n)\n",
        "#print(solucion)\n",
        "print(round(solucion[0]))\n",
        "#print(\"El numero 58 1se encuentra en la posicion 29\")\n",
        "\n",
        "#print(a(435))\n",
        "\n",
        "ai=1680\n",
        "i=1\n",
        "while a(i)<ai:\n",
        "    i+=1\n",
        "print(i)\n",
        "print(a(i))"
      ]
    },
    {
      "cell_type": "markdown",
      "metadata": {
        "id": "gFYqGSbdqoqT"
      },
      "source": [
        "# Problema 9"
      ]
    },
    {
      "cell_type": "markdown",
      "metadata": {
        "id": "UtblbNCYqxOM"
      },
      "source": [
        "El tercer término de una sucesión geométrica es $5$ y el sexto término es $40$. Determine:\n",
        "\n",
        "1. La razón geométrica de la sucesión.\n",
        "2. El primer término de la sucesión.\n",
        "3. La expresión del término de lugar $n$.\n",
        "4. Utilice un código en *Python* para calcular el término que ocupa el lugar $8$.\n",
        "4. ¿Qué lugar ocupa en esta sucesión el término $20.480$? Calcule utilizando un ciclo *while*."
      ]
    },
    {
      "cell_type": "code",
      "execution_count": 49,
      "metadata": {},
      "outputs": [
        {
          "name": "stdout",
          "output_type": "stream",
          "text": [
            "La razon es 2.0\n",
            "El primer termino de la sucesion 1.25\n",
            "la xprecion de lugar n : an = 1.25*2**(n-1)\n",
            " el termino que usa el lugar 8 es 160.0\n",
            "El termino 20.480 ocupa el lugar 15\n"
          ]
        }
      ],
      "source": [
        "#pregunta 1\n",
        "import sympy as sp\n",
        "a3 =5\n",
        "a6 = 40\n",
        "\n",
        "\n",
        "r=(a6/a3)**(1/3)\n",
        "a1=a6*r**(-5)\n",
        "print(f\"La razon es {r}\")\n",
        "\n",
        "def a(n):\n",
        "    return a1*r**(n-1)\n",
        "\n",
        "print(f\"El primer termino de la sucesion {a1}\")\n",
        "print(\"la xprecion de lugar n : an = 1.25*2**(n-1)\")\n",
        "print(f\" el termino que usa el lugar 8 es {a(8)}\")\n",
        "\n",
        "\n",
        "n=sp.Symbol(\"x\")\n",
        "ecuacion= a(n)-20480\n",
        "solucion=sp.solve(ecuacion,n)\n",
        "\n",
        "print(f\"El termino 20.480 ocupa el lugar {round(solucion[0])}\")\n",
        "#print(round(solucion[0]))\n",
        "#print(f\"{a(15)}\")\n",
        "\n",
        "\n"
      ]
    },
    {
      "cell_type": "markdown",
      "metadata": {
        "id": "Ju4J8uWfxQKk"
      },
      "source": [
        "# Problema 10"
      ]
    },
    {
      "cell_type": "markdown",
      "metadata": {
        "id": "F6FPVCXQxTMj"
      },
      "source": [
        "Una empresa de tecnología está optimizando sus servidores. Para ello mide las transacciones por segundo (TPS) de sus servidores en cada mes. Se ha obtenido que en el segundo mes, el rendimiento del servidor fue $1,2$ miles de TPS y en el quinto mes, el rendimiento fue $2,7$ miles de TPS. Si el número de TPS que hay mes a mes sigue una sucesión geométrica, determina utilizando un código en *Python*:\n",
        "\n",
        "1. ¿Cuál es el rendimiento el noveno mes?\n",
        "2. ¿En qué mes el rendimiento es de $23,4$ miles de TPS?\n",
        "\n",
        "Utilice dos decimales para el cálculo."
      ]
    },
    {
      "cell_type": "code",
      "execution_count": null,
      "metadata": {},
      "outputs": [
        {
          "name": "stdout",
          "output_type": "stream",
          "text": [
            "La razon es 1.31\n",
            "0.92\n",
            " el rendimiento al noveno mes 8 miles de tps\n",
            "[]\n",
            "23.470219204351302\n"
          ]
        }
      ],
      "source": [
        "#pregunta 1 \n",
        "a2=1.2\n",
        "a5=2.7\n",
        "\n",
        "r=(a5/a2)**(1/3)\n",
        "a1=a2*r**(-1)\n",
        "print(f\"La razon es {round(r,2)}\")\n",
        "print(round(a1,2))\n",
        "\n",
        "def a(n):\n",
        "    return a1*r**(n-1)\n",
        "\n",
        "print(f\" el rendimiento al noveno mes {round(a(9))} miles de tps\")\n",
        "\n",
        "\n",
        "n=sp.Symbol(\"n\")\n",
        "ecuacion= a(n)-23.4\n",
        "solucion=sp.solve(ecuacion,n)\n",
        "print(solucion)\n",
        "\n",
        "print(a(13))"
      ]
    },
    {
      "cell_type": "code",
      "execution_count": 76,
      "metadata": {},
      "outputs": [
        {
          "name": "stdout",
          "output_type": "stream",
          "text": [
            "el primer mes 1 de rendimiento es de 0.9157713940426653\n",
            "el primer mes 2 de rendimiento es de 1.1999999999999997\n",
            "el primer mes 3 de rendimiento es de 1.5724448365253378\n",
            "el primer mes 4 de rendimiento es de 2.060485636595997\n",
            "el primer mes 5 de rendimiento es de 2.7\n",
            "el primer mes 6 de rendimiento es de 3.5380008821820113\n",
            "el primer mes 7 de rendimiento es de 4.636092682340996\n",
            "el primer mes 8 de rendimiento es de 6.075000000000003\n",
            "el primer mes 9 de rendimiento es de 7.960501984909527\n",
            "el primer mes 10 de rendimiento es de 10.431208535267242\n",
            "el primer mes 11 de rendimiento es de 13.66875000000001\n",
            "el primer mes 12 de rendimiento es de 17.911129466046443\n",
            "el primer mes 13 de rendimiento es de 23.470219204351302\n",
            "el primer mes 14 de rendimiento es de 30.754687500000028\n",
            "el primer mes 15 de rendimiento es de 40.300041298604505\n",
            "el primer mes 16 de rendimiento es de 52.807993209790446\n",
            "el primer mes 17 de rendimiento es de 69.19804687500009\n",
            "el primer mes 18 de rendimiento es de 90.67509292186017\n",
            "el primer mes 19 de rendimiento es de 118.81798472202853\n",
            "el primer mes 20 de rendimiento es de 155.69560546875024\n",
            "el primer mes 21 de rendimiento es de 204.01895907418543\n",
            "el primer mes 22 de rendimiento es de 267.3404656245643\n",
            "Segun la tabla, llega a los 23,4 miles de tps al año y un mes.\n"
          ]
        }
      ],
      "source": [
        "L=[]\n",
        "for i in range(1,23):\n",
        "    L.append(a(i))\n",
        "    print(f\"el primer mes {i} de rendimiento es de {a(i)}\")\n",
        "#suma=round(sum(L),1)\n",
        "#print(L)\n",
        "\n",
        "n=sp.Symbol(\"n\")\n",
        "ecuacion= a(n)-23.4\n",
        "solucion=sp.solve(ecuacion,n)\n",
        "#print(solucion)\n",
        "\n",
        "print(\"Segun la tabla, llega a los 23,4 miles de tps al año y un mes.\")"
      ]
    },
    {
      "cell_type": "markdown",
      "metadata": {
        "id": "jxQyaJXUCW7m"
      },
      "source": [
        "# Problema 11"
      ]
    },
    {
      "cell_type": "markdown",
      "metadata": {
        "id": "8LdxsBUwDfbf"
      },
      "source": [
        "Una aplicación de redes sociales se estrenó el $1$ de enero con una cierta cantidad de usuarios. A partir de ahí, el número de usuarios nuevos de cada día fue siempre el mismo. El $3$ de enero tenía $500$ usuarios en total y el $10$ de enero tenía $1.501$ usuarios totales.Determine:\n",
        "\n",
        "1. ¿Con cuántos usuarios comenzó a funcionar la aplicación?\n",
        "2. ¿Cuántos usuarios tendrá la aplicación el $31$ de enero?\n",
        "3. Si la aplicación tiene $5.505$ usuarios, ¿cuántos meses lleva funcionando?\n",
        "\n"
      ]
    },
    {
      "cell_type": "code",
      "execution_count": 36,
      "metadata": {},
      "outputs": [
        {
          "name": "stdout",
          "output_type": "stream",
          "text": [
            "El primer dia, la aplicacion tenia 214.0 de usuarios\n"
          ]
        }
      ],
      "source": [
        "#a_1=x\n",
        "d=143\n",
        "a_3=500\n",
        "a_10=1501\n",
        "d=(1501-500)/7\n",
        "#print(d)\n",
        "a_1=a_3-2*d\n",
        "#print(a_1)\n",
        "print(f\"El primer dia, la aplicacion tenia {a_1} de usuarios\")"
      ]
    },
    {
      "cell_type": "code",
      "execution_count": 37,
      "metadata": {},
      "outputs": [
        {
          "name": "stdout",
          "output_type": "stream",
          "text": [
            "4504\n"
          ]
        }
      ],
      "source": [
        "def a(n):\n",
        "    return 214+(n-1)*143\n",
        "print(a(31))"
      ]
    },
    {
      "cell_type": "code",
      "execution_count": 38,
      "metadata": {},
      "outputs": [
        {
          "name": "stdout",
          "output_type": "stream",
          "text": [
            "38\n",
            "5505\n"
          ]
        }
      ],
      "source": [
        "ai=5505\n",
        "i=1\n",
        "while a(i)<ai:\n",
        "    i+=1\n",
        "print(i)\n",
        "print(a(i))"
      ]
    },
    {
      "cell_type": "code",
      "execution_count": 40,
      "metadata": {},
      "outputs": [
        {
          "name": "stdout",
          "output_type": "stream",
          "text": [
            "5505\n"
          ]
        }
      ],
      "source": [
        "print(a(38))"
      ]
    },
    {
      "cell_type": "markdown",
      "metadata": {},
      "source": [
        "Una sucesión geométrica es una secuencia de números en la cual cada término, a partir del segundo, \n",
        "se obtiene multiplicando el término anterior por una constante fija llamada razón geométrica  \n",
        " \n",
        " r=A*n+1/A*n\n",
        "\n",
        "Termino general : (Razon constante = r)\n",
        "\n",
        "a1\n",
        "a2 = a1*r\n",
        "a3 = a1*r**2\n",
        "a4 = a1*r**3\n",
        "a5 = a1*r**4\n",
        "a100 = a1*r**99\n",
        "[an = a1*r**n-1] termino general de una sucesion geometrica\n",
        "\n",
        "terminos no consecutivos\n",
        "\n",
        "a10 = 3072 ; a4 = 48\n",
        "a10 = a4 * r**6\n",
        "a10/a4 = r**6\n",
        " raiz 6 a10/a4 = r\n",
        "\n"
      ]
    },
    {
      "cell_type": "markdown",
      "metadata": {
        "id": "zBN3BhYVLLSe"
      },
      "source": [
        "# Problema 12"
      ]
    },
    {
      "cell_type": "markdown",
      "metadata": {
        "id": "kszkhh_GLQN1"
      },
      "source": [
        "Una empresa de publicidad ofrece para un puesto de trabajo un salario inicial y un aumento mensual en una razón constante. Javier se presenta a la entrevista, y el encargado del departamento de recursos humanos le explica que en el segundo mes de trabajo su sueldo será de $\\$402.000$, y que en el tercer mes de trabajo será de $\\$404.010$. Determine:\n",
        "\n",
        "1. El salario aproximado que Javier recibiría en el décimo mes de trabajo en la empresa.\n",
        "2. ¿Cuál sería el ingreso total recibido por los sueldos de Javier durante el tercer año de trabajo?"
      ]
    },
    {
      "cell_type": "markdown",
      "metadata": {
        "id": "-lx5k4b9Y8sD"
      },
      "source": [
        "# Problema 13"
      ]
    },
    {
      "cell_type": "markdown",
      "metadata": {
        "id": "OVuWQuXsY_pp"
      },
      "source": [
        "Una empresa de ciberseguridad capacita trabajadores cada trimestre. En el primer trimestre capacitaron a $30$ trabajadores, en el segundo trimestre a $60$ trabajadores, y en el tercer trimestre a $120$ trabajadores. Si en los siguientes trimestres la empresa mantiene el mismo patrón de crecimiento, determine utilizando *Python*:\n",
        "\n",
        "1. ¿A cuántos trabajadores capacitarán en el octavo trimestre?\n",
        "2. Si la empresa lleva en el mercado $3$ años, ¿a cuántos trabajadores han capacitado en total?"
      ]
    },
    {
      "cell_type": "markdown",
      "metadata": {
        "id": "IM7Xf51G6AXs"
      },
      "source": [
        "# Problema 14"
      ]
    },
    {
      "cell_type": "markdown",
      "metadata": {
        "id": "Ni_4WMQl6OeV"
      },
      "source": [
        "Al llenar un tambor con agua, se registra que durante el minuto $4$ el tambor recibe $128$ litros, y durante el minuto $9$ recibe $88$ litros. Sabiendo que en cada minuto recibe una cantidad $d$ de litros de agua menos que en el minuto anterior, determine:\n",
        "\n",
        "1. ¿En qué instante el tambor deja de recibir agua?\n",
        "2. ¿Cuántos litros recibe en total el tambor?\n",
        "\n",
        "Realice los cálculos anteriores utilizando *Python*."
      ]
    }
  ],
  "metadata": {
    "colab": {
      "provenance": []
    },
    "kernelspec": {
      "display_name": "Python 3",
      "language": "python",
      "name": "python3"
    },
    "language_info": {
      "codemirror_mode": {
        "name": "ipython",
        "version": 3
      },
      "file_extension": ".py",
      "mimetype": "text/x-python",
      "name": "python",
      "nbconvert_exporter": "python",
      "pygments_lexer": "ipython3",
      "version": "3.12.0"
    }
  },
  "nbformat": 4,
  "nbformat_minor": 0
}
