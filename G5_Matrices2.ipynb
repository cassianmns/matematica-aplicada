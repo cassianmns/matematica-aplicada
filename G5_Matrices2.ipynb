{
  "cells": [
    {
      "cell_type": "markdown",
      "metadata": {
        "id": "UCCOMbmnLfHY"
      },
      "source": [
        "# Problema 1"
      ]
    },
    {
      "cell_type": "markdown",
      "metadata": {
        "id": "AHPLM97ONSwR"
      },
      "source": [
        "Las matrices $A$ y $B$ representan las ventas en dos años, en millones de dólares, de los tres productos de una empresa en las cuatro regiones en que está disponible. Es decir, $a_{ij}$ y $b_{ij}$ representan el monto de las ventas del producto $i$ en la región $j$ el primer y segundo año, respectivamente:\n",
        "\n",
        "<br>\n",
        "\n",
        "\\begin{split}\n",
        "A = \\begin{pmatrix}\n",
        " 2,6 &  4,8 &  1,8 & 0,9 \\\\\n",
        " 3,2 &  4,4 &  2,5 & 2,8 \\\\\n",
        " 2,4 &  3,6 &  3,8 & 2,5 \\\\\n",
        "\\end{pmatrix} \\text{ } B= \\begin{pmatrix}\n",
        " 3,6 &  2,5 &  3,0 & 2,5 \\\\\n",
        " 4,5 &  5,0 &  3,5 & 3,8 \\\\\n",
        " 2,9 &  3,0 &  4,6 & 4,0 \\\\\n",
        "\\end{pmatrix}\n",
        "\\end{split}\n",
        "\n",
        "<br>\n",
        "\n",
        "1. Indique el orden de cada matriz.\n",
        "2. Calcule la matriz $S = A + B$.\n",
        "3. Calcule la matriz $D = B - A$.\n",
        "4. Indique el valor e interprete los elementos $s_{24}$ y $d_{24}$.\n",
        "5. Para el tercer año de funcionamiento, los tres productos ahora están disponibles en seis regiones. Durante este año, las ventas de esta empresa estarán registradas en una matriz $E$. ¿Es posible determinar la matriz $T = A + B + E$? Justifique su respuesta."
      ]
    },
    {
      "cell_type": "markdown",
      "metadata": {
        "id": "MdVDj7xheCLm"
      },
      "source": [
        "# Problema 2"
      ]
    },
    {
      "cell_type": "markdown",
      "metadata": {
        "id": "CGrP79UpeM6k"
      },
      "source": [
        "Una fábrica con sucursales en Japón y China, produce tres tipos de componentes $j$, para cinco modelos de computador $i$. Los costos de producción mensual, en miles de dólares, de ambas sucursales se representan en las matrices $J$ y $C$, respectivamente:\n",
        "\n",
        "<br>\n",
        "\n",
        "\\begin{split}\n",
        "J = \\begin{pmatrix}\n",
        " 100 &  200 &  150  \\\\\n",
        " 120 &  210 &  170  \\\\\n",
        " 112 &  200 &  131  \\\\\n",
        " 124 &  310 &  170  \\\\\n",
        " 136 &  156 &  140  \\\\\n",
        "\\end{pmatrix} \\text{ } C = \\begin{pmatrix}\n",
        " 110 &  190 &  160  \\\\\n",
        " 130 &  220 &  180  \\\\\n",
        " 146 &  190 &  141  \\\\\n",
        " 143 &  312 &  163  \\\\\n",
        " 137 &  116 &  156  \\\\\n",
        "\\end{pmatrix}\n",
        "\\end{split}\n",
        "\n",
        "<br>\n",
        "\n",
        "1. ¿Cuál es el orden de las matrices?\n",
        "2. Inteprete el elemento $j_{21}$ y $c_{12}$ en el contexto del problema.\n",
        "3. Utilizando *Python*, calcule el costo total de producción para cada modelo, considerando ambas sucursales.\n",
        "4. Un trabajador indica que, en la sucursal japonesa, el costo de producción del producto $3$, modelo $4$ de computador, es más alto que en la sucursal china. ¿Tiene razón? Justifique apropiadamente."
      ]
    },
    {
      "cell_type": "markdown",
      "metadata": {
        "id": "d1kLjxmU8En9"
      },
      "source": [
        "# Problema 3"
      ]
    },
    {
      "cell_type": "markdown",
      "metadata": {
        "id": "kpido2Zy8zg0"
      },
      "source": [
        "La empresa Beta tiene cinco plantas en Chile, y en cada una de ellas fabrica siete productos. El número de unidades del producto $i$ fabricadas en la planta $j$ en una semana está representado en la matriz $C$ en el elemento $c_{ij}$.\n",
        "\n",
        "<br>\n",
        "\n",
        "\\begin{split}\n",
        "C = \\begin{pmatrix}\n",
        " 120 &  200 &  155 &  125  &  230 \\\\\n",
        " 155 &  130 &  110 &  160  &  180 \\\\\n",
        " 140 &  205 &  150 &  125  &  155 \\\\\n",
        " 130 &  120 &  230 &  225  &  125 \\\\\n",
        " 135 &  70  &  190 &  175  &  95  \\\\\n",
        " 110 &  265 &  180 &  230  &  180 \\\\\n",
        " 185 &  85  &  120 &  135  &  150 \\\\\n",
        "\\end{pmatrix}\n",
        "\\end{split}\n",
        "\n",
        "<br>\n",
        "\n",
        "La empresa se expande, creando cinco plantas en Ecuador que producen los mismos siete productos. La producción semanal de esta filial estará representada por una matriz $E$.\n",
        "\n",
        "1. Si se sabe que los volúmenes de producción semanal de la filial en Ecuador son un $20\\%$ menor que en Chile, calcule la matriz $E$ utilizando *Python*.\n",
        "2. Si representamos la producción semanal total de la empresa Beta, considerando ambas filiales, por la matriz $T$, escriba la expresión que calcula cada elemento de la matriz $T$ usando notación matricial.\n",
        "3. Calcule la matriz $T$ utilizando *Python*.\n",
        "4. Interprete los elementos $c_{34}$ y $t_{72}$ en el contexto del problema."
      ]
    },
    {
      "cell_type": "markdown",
      "metadata": {
        "id": "DZh7JytTJKsb"
      },
      "source": [
        "# Problema 4"
      ]
    },
    {
      "cell_type": "markdown",
      "metadata": {
        "id": "biNp7JeIJU2I"
      },
      "source": [
        "Una empresa que fabrica zapatos tiene dos plantas, una en Valparaíso y la otra en Temuco. La empresa produce zapatos de color negro, blanco y café, tanto para niños, damas como caballeros. La capacidad actual de producción mensual (en miles de pares) para Valparaíso y Temuco, están dadas por las matrices $V$ y $T$, respectivamente. Para ambas matrices, según el orden en que se mencionan, las filas corresponden al color del calzado y las columnas al tipo de persona que utilizará el calzado.\n",
        "\n",
        "<br>\n",
        "\n",
        "\\begin{split}\n",
        "V = \\begin{pmatrix}\n",
        " 30 &  34 &  20  \\\\\n",
        " 45 &  20 &  16  \\\\\n",
        " 14 &  26 &  25  \\\\\n",
        "\\end{pmatrix} \\text{ } T = \\begin{pmatrix}\n",
        " 35 &  30 &  26  \\\\\n",
        " 52 &  25 &  18  \\\\\n",
        " 23 &  24 &  32  \\\\\n",
        "\\end{pmatrix}\n",
        "\\end{split}\n",
        "\n",
        "<br>\n",
        "\n",
        "1. Determine la producción mensual total de ambas plantas, representándola en una matriz $A$. Utilice *Python* para resolver.\n",
        "2. Interprete el elemento $a_{21}$ en el contexto del problema.\n",
        "3. Si para el próximo año se estima que la producción en Valparaíso aumenta en un $30\\%$, mientras que la de Temuco se reduce en un $10\\%$, represente la nueva producción total en la matriz $B$.\n",
        "4. Interprete el elemento $b_{13}$ en el contexto del problema."
      ]
    },
    {
      "cell_type": "code",
      "execution_count": 2,
      "metadata": {},
      "outputs": [
        {
          "name": "stdout",
          "output_type": "stream",
          "text": [
            "[[65 64 46]\n",
            " [97 45 34]\n",
            " [37 50 57]]\n"
          ]
        }
      ],
      "source": [
        "import numpy as np\n",
        "v=np.array([[30,34,20],[45,20,16],[14,26,25]])\n",
        "t=np.array([[35,30,26],[52,25,18],[23,24,32]])\n",
        "a=v+t\n",
        "print(a)"
      ]
    },
    {
      "cell_type": "code",
      "execution_count": 3,
      "metadata": {},
      "outputs": [
        {
          "name": "stdout",
          "output_type": "stream",
          "text": [
            "Se venden mensualmente 97 zapatos de color blanco para niños\n"
          ]
        }
      ],
      "source": [
        "a_21=a[2-1][1-1]\n",
        "print(f\"Se venden mensualmente {a_21} zapatos de color blanco para niños\")"
      ]
    },
    {
      "cell_type": "code",
      "execution_count": 4,
      "metadata": {},
      "outputs": [
        {
          "name": "stdout",
          "output_type": "stream",
          "text": [
            "para el proximo año segun el estimado en ambas plantas seria de [[ 70.5  71.2  49.4]\n",
            " [105.3  48.5  37. ]\n",
            " [ 38.9  55.4  61.3]]\n"
          ]
        }
      ],
      "source": [
        "v1=1.30*v\n",
        "t1=0.90*t\n",
        "\n",
        "B=v1+t1\n",
        "print(f\"para el proximo año segun el estimado en ambas plantas seria de {B}\")"
      ]
    },
    {
      "cell_type": "code",
      "execution_count": 5,
      "metadata": {},
      "outputs": [
        {
          "name": "stdout",
          "output_type": "stream",
          "text": [
            "Se venden mensualmente 46 zapatos de color negro para caballeros\n"
          ]
        }
      ],
      "source": [
        "b_13=a[1-1][3-1]\n",
        "print(f\"Se venden mensualmente {b_13} zapatos de color negro para caballeros\")"
      ]
    },
    {
      "cell_type": "markdown",
      "metadata": {
        "id": "eqY0UgBhQ1PL"
      },
      "source": [
        "# Problema 5"
      ]
    },
    {
      "cell_type": "markdown",
      "metadata": {
        "id": "6W2fcVlyU2Ze"
      },
      "source": [
        "Genere una matriz $M$ de orden $8 \\times 9$ donde cada término de la matriz está definido por:\n",
        "\n",
        "$$m_{ij} = 8i + 12j$$\n",
        "\n",
        "y calcule su transpuesta."
      ]
    },
    {
      "cell_type": "code",
      "execution_count": 8,
      "metadata": {},
      "outputs": [
        {
          "name": "stdout",
          "output_type": "stream",
          "text": [
            "[[ 20.  28.  36.  44.  52.  60.  68.  76.]\n",
            " [ 32.  40.  48.  56.  64.  72.  80.  88.]\n",
            " [ 44.  52.  60.  68.  76.  84.  92. 100.]\n",
            " [ 56.  64.  72.  80.  88.  96. 104. 112.]\n",
            " [ 68.  76.  84.  92. 100. 108. 116. 124.]\n",
            " [ 80.  88.  96. 104. 112. 120. 128. 136.]\n",
            " [ 92. 100. 108. 116. 124. 132. 140. 148.]\n",
            " [104. 112. 120. 128. 136. 144. 152. 160.]\n",
            " [116. 124. 132. 140. 148. 156. 164. 172.]]\n"
          ]
        }
      ],
      "source": [
        "M = np.fromfunction(lambda i, j: 8*(i+1)+12*(j+1), (8,9))\n",
        "#print(M)\n",
        "T = M.T\n",
        "print(T)"
      ]
    },
    {
      "cell_type": "markdown",
      "metadata": {
        "id": "GzG5888JV5Yc"
      },
      "source": [
        "# Problema 6"
      ]
    },
    {
      "cell_type": "markdown",
      "metadata": {
        "id": "dHbVKHuLV71S"
      },
      "source": [
        "Genere dos matrices:\n",
        "\n",
        "*   Una matriz $A$ de orden $5 \\times 7$, con $a_{ij} = i \\cdot j.$\n",
        "*   Una matriz $B$ de orden $7 \\times 5$, con $b_{ij} = 15i - 2j.$\n",
        "\n",
        "y calcule $C = A^{T} + \\dfrac{1}{2}B$.\n",
        "\n"
      ]
    },
    {
      "cell_type": "code",
      "execution_count": 16,
      "metadata": {},
      "outputs": [
        {
          "name": "stdout",
          "output_type": "stream",
          "text": [
            "[[ 1.  2.  3.  4.  5.  6.  7.]\n",
            " [ 2.  4.  6.  8. 10. 12. 14.]\n",
            " [ 3.  6.  9. 12. 15. 18. 21.]\n",
            " [ 4.  8. 12. 16. 20. 24. 28.]\n",
            " [ 5. 10. 15. 20. 25. 30. 35.]]\n",
            "[[ 13.  11.   9.   7.   5.]\n",
            " [ 28.  26.  24.  22.  20.]\n",
            " [ 43.  41.  39.  37.  35.]\n",
            " [ 58.  56.  54.  52.  50.]\n",
            " [ 73.  71.  69.  67.  65.]\n",
            " [ 88.  86.  84.  82.  80.]\n",
            " [103. 101.  99.  97.  95.]]\n",
            "[[ 7.5  7.5  7.5  7.5  7.5]\n",
            " [16.  17.  18.  19.  20. ]\n",
            " [24.5 26.5 28.5 30.5 32.5]\n",
            " [33.  36.  39.  42.  45. ]\n",
            " [41.5 45.5 49.5 53.5 57.5]\n",
            " [50.  55.  60.  65.  70. ]\n",
            " [58.5 64.5 70.5 76.5 82.5]]\n"
          ]
        }
      ],
      "source": [
        "A = np.fromfunction(lambda i, j: (i+1)*(j+1), (5,7))\n",
        "print(A)\n",
        "B = np.fromfunction(lambda i, j: 15*(i+1)-2*(j+1), (7,5))\n",
        "print(B)\n",
        "\n",
        "\n",
        "C=A.T+(1/2)*B\n",
        "print(C)\n",
        "\n"
      ]
    },
    {
      "cell_type": "markdown",
      "metadata": {
        "id": "HZJfudDGXjic"
      },
      "source": [
        "# Problema 7"
      ]
    },
    {
      "cell_type": "markdown",
      "metadata": {
        "id": "Z-C9zGeKYQ11"
      },
      "source": [
        "Una red de sensores recoge datos de temperatura ($°C$), humedad (porcentaje) y presión (hPa) en cinco días distintos (de lunes a viernes). Los datos medidos se muestran en la matriz $D$:\n",
        "\n",
        "<br>\n",
        "\n",
        "\\begin{equation*}\n",
        "\\begin{matrix}\n",
        "& \\begin{matrix}\n",
        " & Lu  \\ \\ &Ma \\ \\ &Mi \\ \\ & Ju \\ \\ &Vi\n",
        "\\end{matrix} \\\\\n",
        "&D = \\begin{pmatrix}\n",
        "20    &  28    &  22    &  26     &  24   \\\\\n",
        "52    &  57    &  56    &  54     &  58   \\\\\n",
        "1.066 &  1.068 &  1.066 &  1.064  &  1.068 \\\\\n",
        "\\end{pmatrix} & \\ \\begin{matrix}\n",
        "Cº\\\\\n",
        "\\% \\\\\n",
        "hPa\n",
        "\\end{matrix}\\\\\n",
        "\\end{matrix}\n",
        "\\end{equation*}\n",
        "\n",
        "<br>\n",
        "\n",
        "Se sabe que por un error de calibración de los sensores, las medidas registradas deberían ser un $5\\%$ menores que las registradas.\n",
        "\n",
        "1. Calcule en una matriz $S$ los valores correctos de temperatura, humedad y presión. Utilice *Python* para calcular.\n",
        "2. Obtenga la matriz $S^{T}$.\n",
        "3. Interprete los elementos $s_{24}$ y $s_{31}^{T}$.\n"
      ]
    },
    {
      "cell_type": "code",
      "execution_count": 24,
      "metadata": {},
      "outputs": [
        {
          "name": "stdout",
          "output_type": "stream",
          "text": [
            "[[  19.     26.6    20.9    24.7    22.8 ]\n",
            " [  49.4    54.15   53.2    51.3    55.1 ]\n",
            " [1012.7  1014.6  1012.7  1010.8  1014.6 ]]\n",
            "[[  20   52 1066]\n",
            " [  28   57 1068]\n",
            " [  22   56 1066]\n",
            " [  26   54 1064]\n",
            " [  24   58 1068]]\n",
            "Porcentaje de humedad en dia jueves de 51.3\n",
            "Dia miercoles, grados celcius 22\n"
          ]
        }
      ],
      "source": [
        "D=np.array([[20,28,22,26,24],[52,57,56,54,58],[1066,1068,1066,1064,1068]])\n",
        "S=0.95*D\n",
        "print(S)\n",
        "T=D.T\n",
        "print(T)\n",
        "S_24=S[2-1][4-1]\n",
        "print(f\"Porcentaje de humedad en dia jueves de {S_24}\")\n",
        "T_31=T[3-1][1-1]\n",
        "print(f\"Dia miercoles, grados celcius {T_31}\")"
      ]
    },
    {
      "cell_type": "markdown",
      "metadata": {
        "id": "9py029xQlSq6"
      },
      "source": [
        "# Problema 8"
      ]
    },
    {
      "cell_type": "markdown",
      "metadata": {
        "id": "icNvmShQmtrx"
      },
      "source": [
        "Una empresa tecnológica vende software y hardware en tres productos: $P_{1}$, $P_{2}$ y $P_{3}$, en cuatro zonas de la capital: norte, sur, este y oeste. Las ventas del mes, en millones de pesos, están registradas en las matrices $S$ y $H$, para software y hardware respectivamente.\n",
        "\n",
        "<br>\n",
        "\n",
        "\\begin{split}\n",
        "S = \\begin{pmatrix}\n",
        " 260 &  480 &  180  &  90  \\\\\n",
        " 320 &  440 &  250  &  280 \\\\\n",
        " 240 &  360 &  380  &  250  \\\\\n",
        "\\end{pmatrix} \\text{ } H = \\begin{pmatrix}\n",
        " 360 &  250 &  300  &  250  \\\\\n",
        " 450 &  500 &  350  &  380 \\\\\n",
        " 290 &  300 &  460  &  400  \\\\\n",
        "\\end{pmatrix}\n",
        "\\end{split}\n",
        "\n",
        "<br>\n",
        "\n",
        "1. Calcule en la matriz $T$, del total de ventas de la empresa tecnológica.\n",
        "2. Un trabajador indica que este mes, la sucursal de la zona sur recaudó más por la venta hardware que software, ¿es correcta su afirmación?\n",
        "3. Debido al black friday se espera que el siguiente mes, las ventas de software aumenten un $7\\%$ y las de hardware aumenten un $3\\%$ respecto al mes actual. Encuentra en total de ventas esperadas para el siguiente mes y almacénalo en la matriz $M$. Utiliza *Python* para realizar los cálculos.\n",
        "4. Interpreta los elementos $t_{24}$ y $m_{31}$ en el contexto del problema.\n",
        "5. Calcula la matriz $M^{T}$ e interpreta el elemento $m_{41}^{T}$ en el contexto del problema.\n"
      ]
    },
    {
      "cell_type": "code",
      "execution_count": 32,
      "metadata": {},
      "outputs": [
        {
          "name": "stdout",
          "output_type": "stream",
          "text": [
            "[[620 730 480 340]\n",
            " [770 940 600 660]\n",
            " [530 660 840 650]]\n",
            "[ 820 1280  810  620]\n",
            "[1100 1050 1110 1030]\n",
            "No recauda mas por la venta de hardware ya que de software llega los 1280 y de hardware a los 1050\n",
            "Cantidad de ventas de software y hardware en el mes del black friday [[649.  771.1 501.6 353.8]\n",
            " [805.9 985.8 628.  691. ]\n",
            " [555.5 694.2 880.4 679.5]]\n",
            "Producto 2 vendido por planta oeste de la capital seria de 660\n",
            "Producto 3 (software y hardware) vendido por la planta del norte de la capital en el mes del black friday seria de 555.5\n",
            "[[649.  805.9 555.5]\n",
            " [771.1 985.8 694.2]\n",
            " [501.6 628.  880.4]\n",
            " [353.8 691.  679.5]]\n",
            "producto 1 vendido en el mes de black friday (software y hardware) en la planta del oeste seria de 353.8\n"
          ]
        }
      ],
      "source": [
        "S=np.array([[260,480,180,90],[320,440,250,280],[240,360,380,250]])\n",
        "H=np.array([[360,250,300,250],[450,500,350,380],[290,300,460,400]])\n",
        "T1=S+H\n",
        "print(T1)\n",
        "suma_S=np.sum(S,axis=0)\n",
        "print(suma_S)\n",
        "suma_H=np.sum(H,axis=0)\n",
        "print(suma_H)\n",
        "print(\"No recauda mas por la venta de hardware ya que de software llega los 1280 y de hardware a los 1050\")\n",
        "SB=1.07*S\n",
        "HB=1.03*H\n",
        "M=SB+HB\n",
        "print(f\"Cantidad de ventas de software y hardware en el mes del black friday {M}\")\n",
        "T_24=T1[2-1][4-1]\n",
        "M_31=M[3-1][1-1]\n",
        "print(f\"Producto 2 vendido por planta oeste de la capital seria de {T_24}\")\n",
        "print(f\"Producto 3 (software y hardware) vendido por la planta del norte de la capital en el mes del black friday seria de {M_31}\")\n",
        "MT=M.T\n",
        "print(MT)\n",
        "M_41=MT[4-1][1-1]\n",
        "print(f\"producto 1 vendido en el mes de black friday (software y hardware) en la planta del oeste seria de {M_41}\")"
      ]
    }
  ],
  "metadata": {
    "colab": {
      "provenance": [],
      "toc_visible": true
    },
    "kernelspec": {
      "display_name": "Python 3",
      "name": "python3"
    },
    "language_info": {
      "codemirror_mode": {
        "name": "ipython",
        "version": 3
      },
      "file_extension": ".py",
      "mimetype": "text/x-python",
      "name": "python",
      "nbconvert_exporter": "python",
      "pygments_lexer": "ipython3",
      "version": "3.12.0"
    }
  },
  "nbformat": 4,
  "nbformat_minor": 0
}
