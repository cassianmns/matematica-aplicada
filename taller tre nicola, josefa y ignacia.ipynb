{
 "cells": [
  {
   "cell_type": "markdown",
   "metadata": {},
   "source": [
    "# El enigma de la Flor Matakiterani: Desentrañando patrones matemáticos"
   ]
  },
  {
   "cell_type": "markdown",
   "metadata": {},
   "source": [
    "En una misteriosa y enigmática isla, florece una planta única en el mundo: la Flor Matakiterani. Esta flor, venerada por los isleños, es famosa por su belleza excepcional y su patrón único de crecimiento en el número de pétalos. Según las leyendas locales, la Flor Matakiterani posee propiedades mágicas y curativas. Los habitantes de la isla han observado que estas flores pueden producir desde un mínimo de $6$ pétalos y hasta un asombroso máximo de $1001$ pétalos por día. En este taller, exploraremos las propiedades matemáticas de esta flor. \n",
    "\n",
    "1. La Flor Matakiterani sigue una secuencia específica en el número de pétalos que la flor produce cada día. Después de años de observación, los isleños han descubierto que la cantidad de pétalos que la flor produce en el $n$-ésimo día sigue la fórmula: $F_{n} = 5n + 1$, dónde $n$ corresponde al número de días. Calcula cuántos pétalos producirá la Flor Matakiterani en el día $10$.\n",
    "1. ¿Cuántos días deben transcurrir para que la flor alcance su valor máximo de pétalos producidos?\n",
    "1. ¿Existe un día en que la flor Matakiterani produzca $782$ pétalos? Explique.\n",
    "1. Los isleños descubrieron otra flor cuyas propiedades parecen estar ligadas a otro tipo de secuencia. Durante los primeros $7$ días, esta flor crece de manera que el número de pétalos producidos en el $n$-ésimo día se duplica con respecto al día anterior. Si el primer día produce $4$ pétalos, construye la expresión algebraica $G_{n}$ que represente el número de pétalos producidos en el $n$-ésimo día e imprime ordenadamente la cantidad de pétalos producidos durante la primera semana.\n",
    "1. Los isleños han notado que, luego de los primeros $7$ días, la magia de esta segunda flor pierde potencia, haciendo que el crecimiento sea más lento, modelado por la expresión: $$H_n = 5 \\cdot (n - 8)\\text{ para } n>7.$$ Calcula el total de pétalos producidos por esta segunda flor al finalizar un mes de $30$ días, considerando que comienza a florecer el día $1$.\n"
   ]
  },
  {
   "cell_type": "code",
   "execution_count": null,
   "metadata": {},
   "outputs": [
    {
     "name": "stdout",
     "output_type": "stream",
     "text": [
      "La flor produce 51 petalos a los 10 dias\n",
      "[200]\n",
      "783.5\n"
     ]
    }
   ],
   "source": [
    "\n",
    "import sympy as sp\n",
    "def f(n):\n",
    "    return 5*n+1\n",
    "\n",
    "print(f\"La flor produce {f(10)} petalos a los 10 dias\")\n",
    "\n",
    "n=sp.Symbol(\"x\")\n",
    "ecuacion= f(n)-1001\n",
    "solucion=sp.solve(ecuacion,n)\n",
    "print(solucion)\n",
    "#print(f(200))\n",
    "L=[]\n",
    "for i in range(144,200):\n",
    "    L.append(f(i))\n",
    "    #print(f\"a_{i} = {f(i)}\")"
   ]
  },
  {
   "cell_type": "code",
   "execution_count": 49,
   "metadata": {},
   "outputs": [
    {
     "name": "stdout",
     "output_type": "stream",
     "text": [
      "la cantidad de petalos producidos durante una semana seria de 508\n"
     ]
    }
   ],
   "source": [
    "r=2\n",
    "g1=4\n",
    "\n",
    "def g(n):\n",
    "    return g1*r**(n-1)\n",
    "L=[]\n",
    "for i in range(1,8):\n",
    "    L.append(g(i))\n",
    "    #print(f\"Dia {i} = {g(i)}\")\n",
    "suma = 0\n",
    "for i in range(1,8):\n",
    "    suma+=g(i)\n",
    "print(f\"la cantidad de petalos producidos durante una semana seria de {suma}\")"
   ]
  },
  {
   "cell_type": "code",
   "execution_count": null,
   "metadata": {},
   "outputs": [
    {
     "name": "stdout",
     "output_type": "stream",
     "text": [
      "1773\n",
      "la cantidad de petalos producios en el mes seria de 1773 petalos\n"
     ]
    }
   ],
   "source": [
    "def h(n):\n",
    "    return 5*(n-8)\n",
    "L2=[]\n",
    "for i in range(8,31):\n",
    "    L.append(h(i))\n",
    "    #print(f\" dia {i} = {h(i)}\")\n",
    "suma2=0\n",
    "for i in range(8,31):\n",
    "    suma2+=h(i)\n",
    "suma_mes=suma+suma2\n",
    "\n",
    "print(f\"la cantidad de petalos producios en el mes seria de {suma_mes} petalos\")"
   ]
  }
 ],
 "metadata": {
  "kernelspec": {
   "display_name": "Python 3",
   "language": "python",
   "name": "python3"
  },
  "language_info": {
   "codemirror_mode": {
    "name": "ipython",
    "version": 3
   },
   "file_extension": ".py",
   "mimetype": "text/x-python",
   "name": "python",
   "nbconvert_exporter": "python",
   "pygments_lexer": "ipython3",
   "version": "3.12.0"
  }
 },
 "nbformat": 4,
 "nbformat_minor": 2
}
